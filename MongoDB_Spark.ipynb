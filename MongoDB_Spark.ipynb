{
 "cells": [
  {
   "cell_type": "code",
   "execution_count": 1,
   "metadata": {},
   "outputs": [],
   "source": [
    "from pyspark.sql import SparkSession\n",
    "from pyspark import SparkContext,SparkConf\n",
    "conf = SparkConf().set(\"spark.jars.packages\", \"org.mongodb.spark:mongo-spark-connector_2.11:2.4.1\")\n",
    "sc = SparkContext(conf=conf)\n",
    "\n",
    "# import os\n",
    "# os.environ['PYSPARK_SUBMIT_ARGS'] = 'org.mongodb.spark:mongo-spark-connector_2.11:2.4.1 pyspark-shell'\n",
    "\n",
    "spark = SparkSession \\\n",
    ".builder \\\n",
    ".appName(\"myApp\") \\\n",
    ".config(\"spark.mongodb.input.uri\", \"mongodb://127.0.0.1/test1.Inpatient_Charges\") \\\n",
    ".config(\"spark.mongodb.output.uri\", \"mongodb://127.0.0.1/test1.Inpatient_Charges\") \\\n",
    ".getOrCreate()"
   ]
  },
  {
   "cell_type": "code",
   "execution_count": 2,
   "metadata": {},
   "outputs": [],
   "source": [
    "df = spark.read.format('com.mongodb.spark.sql.DefaultSource').load()\n",
    "#df.write.format('com.mongodb.spark.sql.DefaultSource').mode('append').save()"
   ]
  },
  {
   "cell_type": "code",
   "execution_count": 3,
   "metadata": {},
   "outputs": [
    {
     "data": {
      "text/plain": [
       "163073"
      ]
     },
     "execution_count": 3,
     "metadata": {},
     "output_type": "execute_result"
    }
   ],
   "source": [
    "df.count()"
   ]
  },
  {
   "cell_type": "code",
   "execution_count": 62,
   "metadata": {},
   "outputs": [],
   "source": [
    "df = df.na.drop()"
   ]
  },
  {
   "cell_type": "code",
   "execution_count": 63,
   "metadata": {},
   "outputs": [
    {
     "data": {
      "text/plain": [
       "156750"
      ]
     },
     "execution_count": 63,
     "metadata": {},
     "output_type": "execute_result"
    }
   ],
   "source": [
    "df.count()"
   ]
  },
  {
   "cell_type": "code",
   "execution_count": 64,
   "metadata": {},
   "outputs": [
    {
     "name": "stdout",
     "output_type": "stream",
     "text": [
      "+--------------------------------------------------------------------------+\n",
      "|drg_definition                                                            |\n",
      "+--------------------------------------------------------------------------+\n",
      "|811 - RED BLOOD CELL DISORDERS W MCC                                      |\n",
      "|329 - MAJOR SMALL & LARGE BOWEL PROCEDURES W MCC                          |\n",
      "|191 - CHRONIC OBSTRUCTIVE PULMONARY DISEASE W CC                          |\n",
      "|683 - RENAL FAILURE W CC                                                  |\n",
      "|918 - POISONING & TOXIC EFFECTS OF DRUGS W/O MCC                          |\n",
      "|481 - HIP & FEMUR PROCEDURES EXCEPT MAJOR JOINT W CC                      |\n",
      "|\"282 - ACUTE MYOCARDIAL INFARCTION                                        |\n",
      "|249 - PERC CARDIOVASC PROC W NON-DRUG-ELUTING STENT W/O MCC               |\n",
      "|390 - G.I. OBSTRUCTION W/O CC/MCC                                         |\n",
      "|300 - PERIPHERAL VASCULAR DISORDERS W CC                                  |\n",
      "|057 - DEGENERATIVE NERVOUS SYSTEM DISORDERS W/O MCC                       |\n",
      "|190 - CHRONIC OBSTRUCTIVE PULMONARY DISEASE W MCC                         |\n",
      "|243 - PERMANENT CARDIAC PACEMAKER IMPLANT W CC                            |\n",
      "|252 - OTHER VASCULAR PROCEDURES W MCC                                     |\n",
      "|314 - OTHER CIRCULATORY SYSTEM DIAGNOSES W MCC                            |\n",
      "|207 - RESPIRATORY SYSTEM DIAGNOSIS W VENTILATOR SUPPORT 96+ HOURS         |\n",
      "|247 - PERC CARDIOVASC PROC W DRUG-ELUTING STENT W/O MCC                   |\n",
      "|690 - KIDNEY & URINARY TRACT INFECTIONS W/O MCC                           |\n",
      "|292 - HEART FAILURE & SHOCK W CC                                          |\n",
      "|482 - HIP & FEMUR PROCEDURES EXCEPT MAJOR JOINT W/O CC/MCC                |\n",
      "|291 - HEART FAILURE & SHOCK W MCC                                         |\n",
      "|305 - HYPERTENSION W/O MCC                                                |\n",
      "|064 - INTRACRANIAL HEMORRHAGE OR CEREBRAL INFARCTION W MCC                |\n",
      "|372 - MAJOR GASTROINTESTINAL DISORDERS & PERITONEAL INFECTIONS W CC       |\n",
      "|253 - OTHER VASCULAR PROCEDURES W CC                                      |\n",
      "|439 - DISORDERS OF PANCREAS EXCEPT MALIGNANCY W CC                        |\n",
      "|177 - RESPIRATORY INFECTIONS & INFLAMMATIONS W MCC                        |\n",
      "|303 - ATHEROSCLEROSIS W/O MCC                                             |\n",
      "|379 - G.I. HEMORRHAGE W/O CC/MCC                                          |\n",
      "|469 - MAJOR JOINT REPLACEMENT OR REATTACHMENT OF LOWER EXTREMITY W MCC    |\n",
      "|885 - PSYCHOSES                                                           |\n",
      "|682 - RENAL FAILURE W MCC                                                 |\n",
      "|246 - PERC CARDIOVASC PROC W DRUG-ELUTING STENT W MCC OR 4+ VESSELS/STENTS|\n",
      "|853 - INFECTIOUS & PARASITIC DISEASES W O.R. PROCEDURE W MCC              |\n",
      "|394 - OTHER DIGESTIVE SYSTEM DIAGNOSES W CC                               |\n",
      "|293 - HEART FAILURE & SHOCK W/O CC/MCC                                    |\n",
      "|418 - LAPAROSCOPIC CHOLECYSTECTOMY W/O C.D.E. W CC                        |\n",
      "|473 - CERVICAL SPINAL FUSION W/O CC/MCC                                   |\n",
      "|251 - PERC CARDIOVASC PROC W/O CORONARY ARTERY STENT W/O MCC              |\n",
      "|872 - SEPTICEMIA OR SEVERE SEPSIS W/O MV 96+ HOURS W/O MCC                |\n",
      "|491 - BACK & NECK PROC EXC SPINAL FUSION W/O CC/MCC                       |\n",
      "|\"286 - CIRCULATORY DISORDERS EXCEPT AMI                                   |\n",
      "|536 - FRACTURES OF HIP & PELVIS W/O MCC                                   |\n",
      "|\"287 - CIRCULATORY DISORDERS EXCEPT AMI                                   |\n",
      "|203 - BRONCHITIS & ASTHMA W/O CC/MCC                                      |\n",
      "|460 - SPINAL FUSION EXCEPT CERVICAL W/O MCC                               |\n",
      "|308 - CARDIAC ARRHYTHMIA & CONDUCTION DISORDERS W MCC                     |\n",
      "|208 - RESPIRATORY SYSTEM DIAGNOSIS W VENTILATOR SUPPORT <96 HOURS         |\n",
      "|603 - CELLULITIS W/O MCC                                                  |\n",
      "|202 - BRONCHITIS & ASTHMA W CC/MCC                                        |\n",
      "|244 - PERMANENT CARDIAC PACEMAKER IMPLANT W/O CC/MCC                      |\n",
      "|\"280 - ACUTE MYOCARDIAL INFARCTION                                        |\n",
      "|301 - PERIPHERAL VASCULAR DISORDERS W/O CC/MCC                            |\n",
      "|313 - CHEST PAIN                                                          |\n",
      "|948 - SIGNS & SYMPTOMS W/O MCC                                            |\n",
      "|698 - OTHER KIDNEY & URINARY TRACT DIAGNOSES W MCC                        |\n",
      "|\"392 - ESOPHAGITIS                                                        |\n",
      "|039 - EXTRACRANIAL PROCEDURES W/O CC/MCC                                  |\n",
      "|470 - MAJOR JOINT REPLACEMENT OR REATTACHMENT OF LOWER EXTREMITY W/O MCC  |\n",
      "|069 - TRANSIENT ISCHEMIA                                                  |\n",
      "|192 - CHRONIC OBSTRUCTIVE PULMONARY DISEASE W/O CC/MCC                    |\n",
      "|552 - MEDICAL BACK PROBLEMS W/O MCC                                       |\n",
      "|238 - MAJOR CARDIOVASC PROCEDURES W/O MCC                                 |\n",
      "|870 - SEPTICEMIA OR SEVERE SEPSIS W MV 96+ HOURS                          |\n",
      "|309 - CARDIAC ARRHYTHMIA & CONDUCTION DISORDERS W CC                      |\n",
      "|189 - PULMONARY EDEMA & RESPIRATORY FAILURE                               |\n",
      "|699 - OTHER KIDNEY & URINARY TRACT DIAGNOSES W CC                         |\n",
      "|897 - ALCOHOL/DRUG ABUSE OR DEPENDENCE W/O REHABILITATION THERAPY W/O MCC |\n",
      "|149 - DYSEQUILIBRIUM                                                      |\n",
      "|602 - CELLULITIS W MCC                                                    |\n",
      "|312 - SYNCOPE & COLLAPSE                                                  |\n",
      "|689 - KIDNEY & URINARY TRACT INFECTIONS W MCC                             |\n",
      "|419 - LAPAROSCOPIC CHOLECYSTECTOMY W/O C.D.E. W/O CC/MCC                  |\n",
      "|066 - INTRACRANIAL HEMORRHAGE OR CEREBRAL INFARCTION W/O CC/MCC           |\n",
      "|074 - CRANIAL & PERIPHERAL NERVE DISORDERS W/O MCC                        |\n",
      "|193 - SIMPLE PNEUMONIA & PLEURISY W MCC                                   |\n",
      "|378 - G.I. HEMORRHAGE W CC                                                |\n",
      "|\"281 - ACUTE MYOCARDIAL INFARCTION                                        |\n",
      "|389 - G.I. OBSTRUCTION W CC                                               |\n",
      "|195 - SIMPLE PNEUMONIA & PLEURISY W/O CC/MCC                              |\n",
      "|178 - RESPIRATORY INFECTIONS & INFLAMMATIONS W CC                         |\n",
      "|176 - PULMONARY EMBOLISM W/O MCC                                          |\n",
      "|377 - G.I. HEMORRHAGE W MCC                                               |\n",
      "|315 - OTHER CIRCULATORY SYSTEM DIAGNOSES W CC                             |\n",
      "|638 - DIABETES W CC                                                       |\n",
      "|065 - INTRACRANIAL HEMORRHAGE OR CEREBRAL INFARCTION W CC                 |\n",
      "|871 - SEPTICEMIA OR SEVERE SEPSIS W/O MV 96+ HOURS W MCC                  |\n",
      "|917 - POISONING & TOXIC EFFECTS OF DRUGS W MCC                            |\n",
      "|812 - RED BLOOD CELL DISORDERS W/O MCC                                    |\n",
      "|194 - SIMPLE PNEUMONIA & PLEURISY W CC                                    |\n",
      "|480 - HIP & FEMUR PROCEDURES EXCEPT MAJOR JOINT W MCC                     |\n",
      "|330 - MAJOR SMALL & LARGE BOWEL PROCEDURES W CC                           |\n",
      "|310 - CARDIAC ARRHYTHMIA & CONDUCTION DISORDERS W/O CC/MCC                |\n",
      "|101 - SEIZURES W/O MCC                                                    |\n",
      "|684 - RENAL FAILURE W/O CC/MCC                                            |\n",
      "|254 - OTHER VASCULAR PROCEDURES W/O CC/MCC                                |\n",
      "|\"391 - ESOPHAGITIS                                                        |\n",
      "+--------------------------------------------------------------------------+\n",
      "\n"
     ]
    }
   ],
   "source": [
    "# remove the spaces from the dataSet\n",
    "from pyspark.sql.functions import trim,col\n",
    "df = df.withColumn(\"drg_definition\",trim(col('drg_definition')))\n",
    "df.select(['drg_definition']).distinct().show(1000,False)"
   ]
  },
  {
   "cell_type": "code",
   "execution_count": 65,
   "metadata": {},
   "outputs": [],
   "source": [
    "df.createOrReplaceTempView('df')\n"
   ]
  },
  {
   "cell_type": "code",
   "execution_count": 66,
   "metadata": {},
   "outputs": [
    {
     "name": "stdout",
     "output_type": "stream",
     "text": [
      "+-----------------------------------------------------------+----------------------------+------------------------------+---------------------------+\n",
      "|drg_definition                                             |max(average_covered_charges)|max(average_medicare_payments)|max(average_total_payments)|\n",
      "+-----------------------------------------------------------+----------------------------+------------------------------+---------------------------+\n",
      "|811 - RED BLOOD CELL DISORDERS W MCC                       |141750                      |24099                         |65772                      |\n",
      "|329 - MAJOR SMALL & LARGE BOWEL PROCEDURES W MCC           |557900                      |100040                        |381799                     |\n",
      "|191 - CHRONIC OBSTRUCTIVE PULMONARY DISEASE W CC           |112726                      |14690                         |66841                      |\n",
      "|683 - RENAL FAILURE W CC                                   |111516                      |15861                         |67345                      |\n",
      "|918 - POISONING & TOXIC EFFECTS OF DRUGS W/O MCC           |79965                       |12479                         |40828                      |\n",
      "|481 - HIP & FEMUR PROCEDURES EXCEPT MAJOR JOINT W CC       |196944                      |31299                         |118015                     |\n",
      "|\"282 - ACUTE MYOCARDIAL INFARCTION                         |88                          |13335                         |107981                     |\n",
      "|249 - PERC CARDIOVASC PROC W NON-DRUG-ELUTING STENT W/O MCC|223805                      |22852                         |125908                     |\n",
      "|390 - G.I. OBSTRUCTION W/O CC/MCC                          |80514                       |11273                         |37003                      |\n",
      "|300 - PERIPHERAL VASCULAR DISORDERS W CC                   |121924                      |15261                         |65450                      |\n",
      "+-----------------------------------------------------------+----------------------------+------------------------------+---------------------------+\n",
      "only showing top 10 rows\n",
      "\n"
     ]
    }
   ],
   "source": [
    "df.groupBy('drg_definition').max().show(10, False)"
   ]
  },
  {
   "cell_type": "code",
   "execution_count": 67,
   "metadata": {},
   "outputs": [],
   "source": [
    "# converting the average covered charges , average total payments, average medicare payments to numeric\n",
    "from pyspark.sql.types import IntegerType\n",
    "df = df.withColumn(\"average_covered_charges\", df[\"average_covered_charges\"].cast(IntegerType()))\n",
    "df = df.withColumn(\"average_total_payments\", df[\"average_total_payments\"].cast(IntegerType()))\n",
    "df = df.withColumn(\"average_medicare_payments\", df[\"average_medicare_payments\"].cast(IntegerType()))"
   ]
  },
  {
   "cell_type": "code",
   "execution_count": 68,
   "metadata": {},
   "outputs": [
    {
     "name": "stdout",
     "output_type": "stream",
     "text": [
      "+--------------------+\n",
      "|      drg_definition|\n",
      "+--------------------+\n",
      "|811 - RED BLOOD C...|\n",
      "|329 - MAJOR SMALL...|\n",
      "|191 - CHRONIC OBS...|\n",
      "|683 - RENAL FAILU...|\n",
      "|918 - POISONING &...|\n",
      "|481 - HIP & FEMUR...|\n",
      "|\"282 - ACUTE MYOC...|\n",
      "|249 - PERC CARDIO...|\n",
      "|390 - G.I. OBSTRU...|\n",
      "|300 - PERIPHERAL ...|\n",
      "|057 - DEGENERATIV...|\n",
      "|190 - CHRONIC OBS...|\n",
      "|243 - PERMANENT C...|\n",
      "|252 - OTHER VASCU...|\n",
      "|314 - OTHER CIRCU...|\n",
      "|207 - RESPIRATORY...|\n",
      "|247 - PERC CARDIO...|\n",
      "|690 - KIDNEY & UR...|\n",
      "|292 - HEART FAILU...|\n",
      "|482 - HIP & FEMUR...|\n",
      "+--------------------+\n",
      "only showing top 20 rows\n",
      "\n"
     ]
    }
   ],
   "source": [
    "df.select(['drg_definition']).distinct().show()"
   ]
  },
  {
   "cell_type": "code",
   "execution_count": 69,
   "metadata": {},
   "outputs": [],
   "source": [
    "# from pyspark.sql.functions import mean, stddev, Column, monotonically_increasing_id\n",
    "# This is find the min , max and stddev\n",
    "import pyspark.sql.functions as f\n",
    "newdf = df.groupBy('drg_definition').agg(f.max('average_total_payments').alias('max_average_total_payments'), \n",
    "                                         f.min('average_total_payments').alias('min_average_total_payments'),\n",
    "                                         f.mean('average_total_payments').alias('mean_average_total_payments'),\n",
    "                                         f.stddev('average_total_payments').alias('std_average_total_payments'),\n",
    "                                         f.variance('average_total_payments').alias('var_average_total_payments'))\n",
    "\n"
   ]
  },
  {
   "cell_type": "code",
   "execution_count": 87,
   "metadata": {},
   "outputs": [
    {
     "name": "stdout",
     "output_type": "stream",
     "text": [
      "+-----------------------------------------------------------------+---------------------------+\n",
      "|drg_definition                                                   |mean_average_total_payments|\n",
      "+-----------------------------------------------------------------+---------------------------+\n",
      "|\"286 - CIRCULATORY DISORDERS EXCEPT AMI                          |59938.14435389989          |\n",
      "|870 - SEPTICEMIA OR SEVERE SEPSIS W MV 96+ HOURS                 |50283.62579957356          |\n",
      "|\"280 - ACUTE MYOCARDIAL INFARCTION                               |46157.79531511433          |\n",
      "|853 - INFECTIOUS & PARASITIC DISEASES W O.R. PROCEDURE W MCC     |44479.98981818182          |\n",
      "|207 - RESPIRATORY SYSTEM DIAGNOSIS W VENTILATOR SUPPORT 96+ HOURS|43614.84595524957          |\n",
      "|329 - MAJOR SMALL & LARGE BOWEL PROCEDURES W MCC                 |41660.656949152544         |\n",
      "|\"287 - CIRCULATORY DISORDERS EXCEPT AMI                          |35336.166868932036         |\n",
      "|\"391 - ESOPHAGITIS                                               |32865.37617135207          |\n",
      "|\"281 - ACUTE MYOCARDIAL INFARCTION                               |31165.61418918919          |\n",
      "|460 - SPINAL FUSION EXCEPT CERVICAL W/O MCC                      |30789.578630549284         |\n",
      "+-----------------------------------------------------------------+---------------------------+\n",
      "only showing top 10 rows\n",
      "\n"
     ]
    }
   ],
   "source": [
    "# Finding the most expensive DRG \n",
    "newdf.createOrReplaceTempView('newdf')\n",
    "test = spark.sql(\"select drg_definition, mean_average_total_payments from newdf order by mean_average_total_payments desc\")\n",
    "test.show(10,False)"
   ]
  },
  {
   "cell_type": "code",
   "execution_count": 71,
   "metadata": {},
   "outputs": [
    {
     "name": "stdout",
     "output_type": "stream",
     "text": [
      "+-----------------------------------------------------------------+--------------------------+\n",
      "|drg_definition                                                   |var_average_total_payments|\n",
      "+-----------------------------------------------------------------+--------------------------+\n",
      "|\"286 - CIRCULATORY DISORDERS EXCEPT AMI                          |1.1923660901492999E9      |\n",
      "|870 - SEPTICEMIA OR SEVERE SEPSIS W MV 96+ HOURS                 |1.1004698844500055E9      |\n",
      "|207 - RESPIRATORY SYSTEM DIAGNOSIS W VENTILATOR SUPPORT 96+ HOURS|8.247975466506679E8       |\n",
      "|\"280 - ACUTE MYOCARDIAL INFARCTION                               |7.62396875188549E8        |\n",
      "|853 - INFECTIOUS & PARASITIC DISEASES W O.R. PROCEDURE W MCC     |7.047162381862136E8       |\n",
      "|329 - MAJOR SMALL & LARGE BOWEL PROCEDURES W MCC                 |5.72318240735696E8        |\n",
      "|\"391 - ESOPHAGITIS                                               |3.056253794230354E8       |\n",
      "|\"281 - ACUTE MYOCARDIAL INFARCTION                               |3.021647311215024E8       |\n",
      "|460 - SPINAL FUSION EXCEPT CERVICAL W/O MCC                      |2.972375372575554E8       |\n",
      "|\"287 - CIRCULATORY DISORDERS EXCEPT AMI                          |2.949489323977604E8       |\n",
      "+-----------------------------------------------------------------+--------------------------+\n",
      "only showing top 10 rows\n",
      "\n"
     ]
    }
   ],
   "source": [
    "#Most expensive DRGs also have the highest variance in costs, following is the most costly \n",
    "test = spark.sql(\"select drg_definition,var_average_total_payments from newdf order by var_average_total_payments desc\")\n",
    "test.show(10,False)"
   ]
  },
  {
   "cell_type": "code",
   "execution_count": 72,
   "metadata": {},
   "outputs": [
    {
     "name": "stdout",
     "output_type": "stream",
     "text": [
      "+-----------------------------------------------------------+--------------------------+--------------------------+---------------------------+--------------------------+--------------------------+------+\n",
      "|drg_definition                                             |max_average_total_payments|min_average_total_payments|mean_average_total_payments|std_average_total_payments|var_average_total_payments|Range |\n",
      "+-----------------------------------------------------------+--------------------------+--------------------------+---------------------------+--------------------------+--------------------------+------+\n",
      "|811 - RED BLOOD CELL DISORDERS W MCC                       |65772                     |6111                      |10264.377973568282         |5572.860274350443         |3.10567716374333E7        |59661 |\n",
      "|329 - MAJOR SMALL & LARGE BOWEL PROCEDURES W MCC           |381799                    |20298                     |41660.656949152544         |23923.17371787648         |5.72318240735696E8        |361501|\n",
      "|191 - CHRONIC OBSTRUCTIVE PULMONARY DISEASE W CC           |66841                     |4532                      |7228.5399337504605         |3939.685255258306         |1.5521119910499701E7      |62309 |\n",
      "|683 - RENAL FAILURE W CC                                   |67345                     |4724                      |7624.863473053892          |4181.93761046701          |1.7488602177838523E7      |62621 |\n",
      "|918 - POISONING & TOXIC EFFECTS OF DRUGS W/O MCC           |40828                     |3040                      |5003.83055756698           |3153.9359923327897        |9947312.243732218         |37788 |\n",
      "|481 - HIP & FEMUR PROCEDURES EXCEPT MAJOR JOINT W CC       |118015                    |8606                      |14034.767831498324         |8047.504229031677         |6.476232431628272E7       |109409|\n",
      "|\"282 - ACUTE MYOCARDIAL INFARCTION                         |107981                    |4447                      |23458.67457305503          |12781.78798481176         |1.633741040886783E8       |103534|\n",
      "|249 - PERC CARDIOVASC PROC W NON-DRUG-ELUTING STENT W/O MCC|125908                    |8515                      |14854.894240837697         |11500.992050744011        |1.3227281815127695E8      |117393|\n",
      "|390 - G.I. OBSTRUCTION W/O CC/MCC                          |37003                     |3091                      |4950.972860125261          |2793.3542643066767        |7802828.045920294         |33912 |\n",
      "|300 - PERIPHERAL VASCULAR DISORDERS W CC                   |65450                     |4159                      |7400.578843626807          |4134.709461465098         |1.7095822330729E7         |61291 |\n",
      "+-----------------------------------------------------------+--------------------------+--------------------------+---------------------------+--------------------------+--------------------------+------+\n",
      "only showing top 10 rows\n",
      "\n"
     ]
    }
   ],
   "source": [
    "# Most expensive DRGs also have the highest range in costs\n",
    "newdf = newdf.withColumn(\"Range\",col(\"max_average_total_payments\") -col(\"min_average_total_payments\"))\n",
    "newdf.show(10, False)\n"
   ]
  },
  {
   "cell_type": "code",
   "execution_count": 73,
   "metadata": {},
   "outputs": [
    {
     "name": "stdout",
     "output_type": "stream",
     "text": [
      "+--------------------+--------------------------+--------------------------+---------------------------+--------------------------+--------------------------+------+\n",
      "|      drg_definition|max_average_total_payments|min_average_total_payments|mean_average_total_payments|std_average_total_payments|var_average_total_payments| Range|\n",
      "+--------------------+--------------------------+--------------------------+---------------------------+--------------------------+--------------------------+------+\n",
      "|870 - SEPTICEMIA ...|                    447714|                     20536|          50283.62579957356|          33173.3309218415|      1.1004698844500055E9|427178|\n",
      "|207 - RESPIRATORY...|                    414555|                     22311|          43614.84595524957|        28719.288756002785|       8.247975466506679E8|392244|\n",
      "|853 - INFECTIOUS ...|                    391446|                     22112|          44479.98981818182|        26546.492012810537|       7.047162381862136E8|369334|\n",
      "|329 - MAJOR SMALL...|                    381799|                     20298|         41660.656949152544|         23923.17371787648|        5.72318240735696E8|361501|\n",
      "|\"286 - CIRCULATOR...|                    351798|                      9269|          59938.14435389989|         34530.65435449059|      1.1923660901492999E9|342529|\n",
      "|460 - SPINAL FUSI...|                    223532|                     16771|         30789.578630549284|        17240.578217030758|       2.972375372575554E8|206761|\n",
      "|\"280 - ACUTE MYOC...|                    210229|                      7062|          46157.79531511433|         27611.53518347991|        7.62396875188549E8|203167|\n",
      "|469 - MAJOR JOINT...|                    212618|                     12810|          25683.23200859291|        16167.732506841538|      2.6139557441278055E8|199808|\n",
      "|208 - RESPIRATORY...|                    208065|                      8912|          17997.01907630522|        11441.011823900604|      1.3089675155463342E8|199153|\n",
      "|251 - PERC CARDIO...|                    203522|                      8759|         16326.182943603852|          14736.7813378386|        2.17172724199268E8|194763|\n",
      "|252 - OTHER VASCU...|                    193954|                     14352|         25185.980869565217|        13526.824745740723|       1.829749877019836E8|179602|\n",
      "|238 - MAJOR CARDI...|                    188168|                     13233|         24971.081671415006|        15375.214697656329|      2.3639722699902722E8|174935|\n",
      "|177 - RESPIRATORY...|                    179692|                      6984|         15292.199683042789|          9484.36834162393|       8.995324283959825E7|172708|\n",
      "|480 - HIP & FEMUR...|                    180160|                     14483|          23237.28448275862|        12548.730028829923|      1.5747062533645782E8|165677|\n",
      "|330 - MAJOR SMALL...|                    177274|                     12200|          19734.76785714286|         11126.66412802625|      1.2380265461790614E8|165074|\n",
      "|064 - INTRACRANIA...|                    172018|                      8174|         14764.425814234017|         10062.74318129777|      1.0125880033275478E8|163844|\n",
      "|377 - G.I. HEMORR...|                    163689|                      7966|          13959.29022646007|         9711.375427870631|       9.431081270104948E7|155723|\n",
      "|246 - PERC CARDIO...|                    164302|                     15513|         26591.423580786028|        17130.425404893587|       2.934514745526236E8|148789|\n",
      "|253 - OTHER VASCU...|                    157822|                     11287|          19636.16638935108|         12907.96733146148|      1.6661562063007677E8|146535|\n",
      "|243 - PERMANENT C...|                    155632|                     12286|          20469.68695652174|        12853.230568949448|      1.6520553605857655E8|143346|\n",
      "+--------------------+--------------------------+--------------------------+---------------------------+--------------------------+--------------------------+------+\n",
      "only showing top 20 rows\n",
      "\n"
     ]
    }
   ],
   "source": [
    "from pyspark.sql.functions import desc\n",
    "newdf.sort(desc(\"Range\")).show()\n"
   ]
  },
  {
   "cell_type": "code",
   "execution_count": 74,
   "metadata": {},
   "outputs": [
    {
     "name": "stdout",
     "output_type": "stream",
     "text": [
      "+--------------+-------------+-------------------+\n",
      "|drg_definition|providerState|maxAvgPaymentPerDRG|\n",
      "+--------------+-------------+-------------------+\n",
      "+--------------+-------------+-------------------+\n",
      "\n"
     ]
    }
   ],
   "source": [
    "# Which states are the most expensive for each treatment?\n",
    "df.createOrReplaceTempView('df')\n",
    "newdf.createOrReplaceTempView('newdf')\n",
    "#query1 = spark.sql(\"SELECT `drg_definition`, `provider_state`, t.maxAvgPaymentPerDRG  FROM df hc INNER JOIN \n",
    "#                   (SELECT `drg_definition`, 'max_average_total_payments' FROM newdf GROUP BY `DRG Definition`) t \n",
    " #                  ON hc.`drg_definition` == t.drg AND hc.`average_total_payments` == t.average_total_payments ORDER BY provider_state ASC\")\n",
    "\n",
    "query1 = spark.sql('''SELECT `drg_definition`, `provider_state` as providerState, t.maxAvgPaymentPerDRG FROM df hc \n",
    "                   INNER JOIN(SELECT `drg_definition` as drg, MAX('average_total_payments') as maxAvgPaymentPerDRG FROM newdf GROUP BY `drg_definition`) t \n",
    "                   ON hc.`drg_definition` == t.drg AND hc.`average_total_payments` == t.maxAvgPaymentPerDRG ORDER BY providerState ASC''')\n",
    "\n",
    "query1.show()\n",
    "\n",
    "\n",
    "\n",
    "\n",
    "\n",
    "\n",
    "\n"
   ]
  },
  {
   "cell_type": "code",
   "execution_count": 7,
   "metadata": {},
   "outputs": [
    {
     "data": {
      "text/plain": [
       "['_id',\n",
       " 'average_covered_charges',\n",
       " 'average_medicare_payments',\n",
       " 'average_total_payments',\n",
       " 'drg_definition',\n",
       " 'hospital_referral_region_description',\n",
       " 'provider_city',\n",
       " 'provider_id',\n",
       " 'provider_name',\n",
       " 'provider_state',\n",
       " 'provider_street_address',\n",
       " 'provider_zip_code',\n",
       " 'total_discharges']"
      ]
     },
     "execution_count": 7,
     "metadata": {},
     "output_type": "execute_result"
    }
   ],
   "source": [
    "df.columns"
   ]
  },
  {
   "cell_type": "code",
   "execution_count": 88,
   "metadata": {},
   "outputs": [
    {
     "ename": "AnalysisException",
     "evalue": "\"cannot resolve '`max_average_total_payment`' given input columns: [newdf.std_average_total_payments, newdf.mean_average_total_payments, newdf.max_average_total_payments, newdf.drg_definition, newdf.min_average_total_payments, newdf.var_average_total_payments, newdf.Range]; line 1 pos 30;\\n'Aggregate [drg_definition#826], [drg_definition#826 AS drg#1319, 'max_average_total_payment]\\n+- SubqueryAlias `newdf`\\n   +- Project [drg_definition#826, max_average_total_payments#948, min_average_total_payments#950, mean_average_total_payments#952, std_average_total_payments#962, var_average_total_payments#972, (max_average_total_payments#948 - min_average_total_payments#950) AS Range#1085]\\n      +- Aggregate [drg_definition#826], [drg_definition#826, max(average_total_payments#901) AS max_average_total_payments#948, min(average_total_payments#901) AS min_average_total_payments#950, avg(cast(average_total_payments#901 as bigint)) AS mean_average_total_payments#952, stddev_samp(cast(average_total_payments#901 as double)) AS std_average_total_payments#962, var_samp(cast(average_total_payments#901 as double)) AS var_average_total_payments#972]\\n         +- Project [_id#0, average_covered_charges#887, cast(average_medicare_payments#140 as int) AS average_medicare_payments#915, average_total_payments#901, drg_definition#826, hospital_referral_region_description#5, provider_city#6, provider_id#7, provider_name#8, provider_state#9, provider_street_address#10, provider_zip_code#11, total_discharges#12]\\n            +- Project [_id#0, average_covered_charges#887, average_medicare_payments#140, cast(average_total_payments#126 as int) AS average_total_payments#901, drg_definition#826, hospital_referral_region_description#5, provider_city#6, provider_id#7, provider_name#8, provider_state#9, provider_street_address#10, provider_zip_code#11, total_discharges#12]\\n               +- Project [_id#0, cast(average_covered_charges#112 as int) AS average_covered_charges#887, average_medicare_payments#140, average_total_payments#126, drg_definition#826, hospital_referral_region_description#5, provider_city#6, provider_id#7, provider_name#8, provider_state#9, provider_street_address#10, provider_zip_code#11, total_discharges#12]\\n                  +- Project [_id#0, average_covered_charges#112, average_medicare_payments#140, average_total_payments#126, trim(drg_definition#758, None) AS drg_definition#826, hospital_referral_region_description#5, provider_city#6, provider_id#7, provider_name#8, provider_state#9, provider_street_address#10, provider_zip_code#11, total_discharges#12]\\n                     +- Filter AtLeastNNulls(n, _id#0,average_covered_charges#112,average_medicare_payments#140,average_total_payments#126,drg_definition#758,hospital_referral_region_description#5,provider_city#6,provider_id#7,provider_name#8,provider_state#9,provider_street_address#10,provider_zip_code#11,total_discharges#12)\\n                        +- Project [_id#0, average_covered_charges#112, average_medicare_payments#140, average_total_payments#126, trim(drg_definition#75, None) AS drg_definition#758, hospital_referral_region_description#5, provider_city#6, provider_id#7, provider_name#8, provider_state#9, provider_street_address#10, provider_zip_code#11, total_discharges#12]\\n                           +- Project [_id#0, average_covered_charges#112, cast(average_medicare_payments#2 as int) AS average_medicare_payments#140, average_total_payments#126, drg_definition#75, hospital_referral_region_description#5, provider_city#6, provider_id#7, provider_name#8, provider_state#9, provider_street_address#10, provider_zip_code#11, total_discharges#12]\\n                              +- Project [_id#0, average_covered_charges#112, average_medicare_payments#2, cast(average_total_payments#3 as int) AS average_total_payments#126, drg_definition#75, hospital_referral_region_description#5, provider_city#6, provider_id#7, provider_name#8, provider_state#9, provider_street_address#10, provider_zip_code#11, total_discharges#12]\\n                                 +- Project [_id#0, cast(average_covered_charges#1 as int) AS average_covered_charges#112, average_medicare_payments#2, average_total_payments#3, drg_definition#75, hospital_referral_region_description#5, provider_city#6, provider_id#7, provider_name#8, provider_state#9, provider_street_address#10, provider_zip_code#11, total_discharges#12]\\n                                    +- Project [_id#0, average_covered_charges#1, average_medicare_payments#2, average_total_payments#3, trim(drg_definition#4, None) AS drg_definition#75, hospital_referral_region_description#5, provider_city#6, provider_id#7, provider_name#8, provider_state#9, provider_street_address#10, provider_zip_code#11, total_discharges#12]\\n                                       +- Filter AtLeastNNulls(n, _id#0,average_covered_charges#1,average_medicare_payments#2,average_total_payments#3,drg_definition#4,hospital_referral_region_description#5,provider_city#6,provider_id#7,provider_name#8,provider_state#9,provider_street_address#10,provider_zip_code#11,total_discharges#12)\\n                                          +- Relation[_id#0,average_covered_charges#1,average_medicare_payments#2,average_total_payments#3,drg_definition#4,hospital_referral_region_description#5,provider_city#6,provider_id#7,provider_name#8,provider_state#9,provider_street_address#10,provider_zip_code#11,total_discharges#12] MongoRelation(MongoRDD[0] at RDD at MongoRDD.scala:51,Some(StructType(StructField(_id,StructType(StructField(oid,StringType,true)),true), StructField(average_covered_charges,StringType,true), StructField(average_medicare_payments,StringType,true), StructField(average_total_payments,StringType,true), StructField(drg_definition,StringType,true), StructField(hospital_referral_region_description,StringType,true), StructField(provider_city,StringType,true), StructField(provider_id,StringType,true), StructField(provider_name,StringType,true), StructField(provider_state,StringType,true), StructField(provider_street_address,StringType,true), StructField(provider_zip_code,StringType,true), StructField(total_discharges,StringType,true))))\\n\"",
     "output_type": "error",
     "traceback": [
      "\u001b[0;31m---------------------------------------------------------------------------\u001b[0m",
      "\u001b[0;31mPy4JJavaError\u001b[0m                             Traceback (most recent call last)",
      "\u001b[0;32m~/opt/anaconda3/lib/python3.7/site-packages/pyspark/sql/utils.py\u001b[0m in \u001b[0;36mdeco\u001b[0;34m(*a, **kw)\u001b[0m\n\u001b[1;32m     62\u001b[0m         \u001b[0;32mtry\u001b[0m\u001b[0;34m:\u001b[0m\u001b[0;34m\u001b[0m\u001b[0;34m\u001b[0m\u001b[0m\n\u001b[0;32m---> 63\u001b[0;31m             \u001b[0;32mreturn\u001b[0m \u001b[0mf\u001b[0m\u001b[0;34m(\u001b[0m\u001b[0;34m*\u001b[0m\u001b[0ma\u001b[0m\u001b[0;34m,\u001b[0m \u001b[0;34m**\u001b[0m\u001b[0mkw\u001b[0m\u001b[0;34m)\u001b[0m\u001b[0;34m\u001b[0m\u001b[0;34m\u001b[0m\u001b[0m\n\u001b[0m\u001b[1;32m     64\u001b[0m         \u001b[0;32mexcept\u001b[0m \u001b[0mpy4j\u001b[0m\u001b[0;34m.\u001b[0m\u001b[0mprotocol\u001b[0m\u001b[0;34m.\u001b[0m\u001b[0mPy4JJavaError\u001b[0m \u001b[0;32mas\u001b[0m \u001b[0me\u001b[0m\u001b[0;34m:\u001b[0m\u001b[0;34m\u001b[0m\u001b[0;34m\u001b[0m\u001b[0m\n",
      "\u001b[0;32m~/opt/anaconda3/lib/python3.7/site-packages/py4j/protocol.py\u001b[0m in \u001b[0;36mget_return_value\u001b[0;34m(answer, gateway_client, target_id, name)\u001b[0m\n\u001b[1;32m    327\u001b[0m                     \u001b[0;34m\"An error occurred while calling {0}{1}{2}.\\n\"\u001b[0m\u001b[0;34m.\u001b[0m\u001b[0;34m\u001b[0m\u001b[0;34m\u001b[0m\u001b[0m\n\u001b[0;32m--> 328\u001b[0;31m                     format(target_id, \".\", name), value)\n\u001b[0m\u001b[1;32m    329\u001b[0m             \u001b[0;32melse\u001b[0m\u001b[0;34m:\u001b[0m\u001b[0;34m\u001b[0m\u001b[0;34m\u001b[0m\u001b[0m\n",
      "\u001b[0;31mPy4JJavaError\u001b[0m: An error occurred while calling o33.sql.\n: org.apache.spark.sql.AnalysisException: cannot resolve '`max_average_total_payment`' given input columns: [newdf.std_average_total_payments, newdf.mean_average_total_payments, newdf.max_average_total_payments, newdf.drg_definition, newdf.min_average_total_payments, newdf.var_average_total_payments, newdf.Range]; line 1 pos 30;\n'Aggregate [drg_definition#826], [drg_definition#826 AS drg#1319, 'max_average_total_payment]\n+- SubqueryAlias `newdf`\n   +- Project [drg_definition#826, max_average_total_payments#948, min_average_total_payments#950, mean_average_total_payments#952, std_average_total_payments#962, var_average_total_payments#972, (max_average_total_payments#948 - min_average_total_payments#950) AS Range#1085]\n      +- Aggregate [drg_definition#826], [drg_definition#826, max(average_total_payments#901) AS max_average_total_payments#948, min(average_total_payments#901) AS min_average_total_payments#950, avg(cast(average_total_payments#901 as bigint)) AS mean_average_total_payments#952, stddev_samp(cast(average_total_payments#901 as double)) AS std_average_total_payments#962, var_samp(cast(average_total_payments#901 as double)) AS var_average_total_payments#972]\n         +- Project [_id#0, average_covered_charges#887, cast(average_medicare_payments#140 as int) AS average_medicare_payments#915, average_total_payments#901, drg_definition#826, hospital_referral_region_description#5, provider_city#6, provider_id#7, provider_name#8, provider_state#9, provider_street_address#10, provider_zip_code#11, total_discharges#12]\n            +- Project [_id#0, average_covered_charges#887, average_medicare_payments#140, cast(average_total_payments#126 as int) AS average_total_payments#901, drg_definition#826, hospital_referral_region_description#5, provider_city#6, provider_id#7, provider_name#8, provider_state#9, provider_street_address#10, provider_zip_code#11, total_discharges#12]\n               +- Project [_id#0, cast(average_covered_charges#112 as int) AS average_covered_charges#887, average_medicare_payments#140, average_total_payments#126, drg_definition#826, hospital_referral_region_description#5, provider_city#6, provider_id#7, provider_name#8, provider_state#9, provider_street_address#10, provider_zip_code#11, total_discharges#12]\n                  +- Project [_id#0, average_covered_charges#112, average_medicare_payments#140, average_total_payments#126, trim(drg_definition#758, None) AS drg_definition#826, hospital_referral_region_description#5, provider_city#6, provider_id#7, provider_name#8, provider_state#9, provider_street_address#10, provider_zip_code#11, total_discharges#12]\n                     +- Filter AtLeastNNulls(n, _id#0,average_covered_charges#112,average_medicare_payments#140,average_total_payments#126,drg_definition#758,hospital_referral_region_description#5,provider_city#6,provider_id#7,provider_name#8,provider_state#9,provider_street_address#10,provider_zip_code#11,total_discharges#12)\n                        +- Project [_id#0, average_covered_charges#112, average_medicare_payments#140, average_total_payments#126, trim(drg_definition#75, None) AS drg_definition#758, hospital_referral_region_description#5, provider_city#6, provider_id#7, provider_name#8, provider_state#9, provider_street_address#10, provider_zip_code#11, total_discharges#12]\n                           +- Project [_id#0, average_covered_charges#112, cast(average_medicare_payments#2 as int) AS average_medicare_payments#140, average_total_payments#126, drg_definition#75, hospital_referral_region_description#5, provider_city#6, provider_id#7, provider_name#8, provider_state#9, provider_street_address#10, provider_zip_code#11, total_discharges#12]\n                              +- Project [_id#0, average_covered_charges#112, average_medicare_payments#2, cast(average_total_payments#3 as int) AS average_total_payments#126, drg_definition#75, hospital_referral_region_description#5, provider_city#6, provider_id#7, provider_name#8, provider_state#9, provider_street_address#10, provider_zip_code#11, total_discharges#12]\n                                 +- Project [_id#0, cast(average_covered_charges#1 as int) AS average_covered_charges#112, average_medicare_payments#2, average_total_payments#3, drg_definition#75, hospital_referral_region_description#5, provider_city#6, provider_id#7, provider_name#8, provider_state#9, provider_street_address#10, provider_zip_code#11, total_discharges#12]\n                                    +- Project [_id#0, average_covered_charges#1, average_medicare_payments#2, average_total_payments#3, trim(drg_definition#4, None) AS drg_definition#75, hospital_referral_region_description#5, provider_city#6, provider_id#7, provider_name#8, provider_state#9, provider_street_address#10, provider_zip_code#11, total_discharges#12]\n                                       +- Filter AtLeastNNulls(n, _id#0,average_covered_charges#1,average_medicare_payments#2,average_total_payments#3,drg_definition#4,hospital_referral_region_description#5,provider_city#6,provider_id#7,provider_name#8,provider_state#9,provider_street_address#10,provider_zip_code#11,total_discharges#12)\n                                          +- Relation[_id#0,average_covered_charges#1,average_medicare_payments#2,average_total_payments#3,drg_definition#4,hospital_referral_region_description#5,provider_city#6,provider_id#7,provider_name#8,provider_state#9,provider_street_address#10,provider_zip_code#11,total_discharges#12] MongoRelation(MongoRDD[0] at RDD at MongoRDD.scala:51,Some(StructType(StructField(_id,StructType(StructField(oid,StringType,true)),true), StructField(average_covered_charges,StringType,true), StructField(average_medicare_payments,StringType,true), StructField(average_total_payments,StringType,true), StructField(drg_definition,StringType,true), StructField(hospital_referral_region_description,StringType,true), StructField(provider_city,StringType,true), StructField(provider_id,StringType,true), StructField(provider_name,StringType,true), StructField(provider_state,StringType,true), StructField(provider_street_address,StringType,true), StructField(provider_zip_code,StringType,true), StructField(total_discharges,StringType,true))))\n\n\tat org.apache.spark.sql.catalyst.analysis.package$AnalysisErrorAt.failAnalysis(package.scala:42)\n\tat org.apache.spark.sql.catalyst.analysis.CheckAnalysis$$anonfun$checkAnalysis$1$$anonfun$apply$3.applyOrElse(CheckAnalysis.scala:111)\n\tat org.apache.spark.sql.catalyst.analysis.CheckAnalysis$$anonfun$checkAnalysis$1$$anonfun$apply$3.applyOrElse(CheckAnalysis.scala:108)\n\tat org.apache.spark.sql.catalyst.trees.TreeNode$$anonfun$transformUp$1.apply(TreeNode.scala:281)\n\tat org.apache.spark.sql.catalyst.trees.TreeNode$$anonfun$transformUp$1.apply(TreeNode.scala:281)\n\tat org.apache.spark.sql.catalyst.trees.CurrentOrigin$.withOrigin(TreeNode.scala:70)\n\tat org.apache.spark.sql.catalyst.trees.TreeNode.transformUp(TreeNode.scala:280)\n\tat org.apache.spark.sql.catalyst.plans.QueryPlan$$anonfun$transformExpressionsUp$1.apply(QueryPlan.scala:93)\n\tat org.apache.spark.sql.catalyst.plans.QueryPlan$$anonfun$transformExpressionsUp$1.apply(QueryPlan.scala:93)\n\tat org.apache.spark.sql.catalyst.plans.QueryPlan$$anonfun$1.apply(QueryPlan.scala:105)\n\tat org.apache.spark.sql.catalyst.plans.QueryPlan$$anonfun$1.apply(QueryPlan.scala:105)\n\tat org.apache.spark.sql.catalyst.trees.CurrentOrigin$.withOrigin(TreeNode.scala:70)\n\tat org.apache.spark.sql.catalyst.plans.QueryPlan.transformExpression$1(QueryPlan.scala:104)\n\tat org.apache.spark.sql.catalyst.plans.QueryPlan.org$apache$spark$sql$catalyst$plans$QueryPlan$$recursiveTransform$1(QueryPlan.scala:116)\n\tat org.apache.spark.sql.catalyst.plans.QueryPlan$$anonfun$org$apache$spark$sql$catalyst$plans$QueryPlan$$recursiveTransform$1$2.apply(QueryPlan.scala:121)\n\tat scala.collection.TraversableLike$$anonfun$map$1.apply(TraversableLike.scala:234)\n\tat scala.collection.TraversableLike$$anonfun$map$1.apply(TraversableLike.scala:234)\n\tat scala.collection.immutable.List.foreach(List.scala:392)\n\tat scala.collection.TraversableLike$class.map(TraversableLike.scala:234)\n\tat scala.collection.immutable.List.map(List.scala:296)\n\tat org.apache.spark.sql.catalyst.plans.QueryPlan.org$apache$spark$sql$catalyst$plans$QueryPlan$$recursiveTransform$1(QueryPlan.scala:121)\n\tat org.apache.spark.sql.catalyst.plans.QueryPlan$$anonfun$2.apply(QueryPlan.scala:126)\n\tat org.apache.spark.sql.catalyst.trees.TreeNode.mapProductIterator(TreeNode.scala:187)\n\tat org.apache.spark.sql.catalyst.plans.QueryPlan.mapExpressions(QueryPlan.scala:126)\n\tat org.apache.spark.sql.catalyst.plans.QueryPlan.transformExpressionsUp(QueryPlan.scala:93)\n\tat org.apache.spark.sql.catalyst.analysis.CheckAnalysis$$anonfun$checkAnalysis$1.apply(CheckAnalysis.scala:108)\n\tat org.apache.spark.sql.catalyst.analysis.CheckAnalysis$$anonfun$checkAnalysis$1.apply(CheckAnalysis.scala:86)\n\tat org.apache.spark.sql.catalyst.trees.TreeNode.foreachUp(TreeNode.scala:127)\n\tat org.apache.spark.sql.catalyst.analysis.CheckAnalysis$class.checkAnalysis(CheckAnalysis.scala:86)\n\tat org.apache.spark.sql.catalyst.analysis.Analyzer.checkAnalysis(Analyzer.scala:95)\n\tat org.apache.spark.sql.catalyst.analysis.Analyzer$$anonfun$executeAndCheck$1.apply(Analyzer.scala:108)\n\tat org.apache.spark.sql.catalyst.analysis.Analyzer$$anonfun$executeAndCheck$1.apply(Analyzer.scala:105)\n\tat org.apache.spark.sql.catalyst.plans.logical.AnalysisHelper$.markInAnalyzer(AnalysisHelper.scala:201)\n\tat org.apache.spark.sql.catalyst.analysis.Analyzer.executeAndCheck(Analyzer.scala:105)\n\tat org.apache.spark.sql.execution.QueryExecution.analyzed$lzycompute(QueryExecution.scala:57)\n\tat org.apache.spark.sql.execution.QueryExecution.analyzed(QueryExecution.scala:55)\n\tat org.apache.spark.sql.execution.QueryExecution.assertAnalyzed(QueryExecution.scala:47)\n\tat org.apache.spark.sql.Dataset$.ofRows(Dataset.scala:78)\n\tat org.apache.spark.sql.SparkSession.sql(SparkSession.scala:642)\n\tat sun.reflect.GeneratedMethodAccessor92.invoke(Unknown Source)\n\tat sun.reflect.DelegatingMethodAccessorImpl.invoke(DelegatingMethodAccessorImpl.java:43)\n\tat java.lang.reflect.Method.invoke(Method.java:498)\n\tat py4j.reflection.MethodInvoker.invoke(MethodInvoker.java:244)\n\tat py4j.reflection.ReflectionEngine.invoke(ReflectionEngine.java:357)\n\tat py4j.Gateway.invoke(Gateway.java:282)\n\tat py4j.commands.AbstractCommand.invokeMethod(AbstractCommand.java:132)\n\tat py4j.commands.CallCommand.execute(CallCommand.java:79)\n\tat py4j.GatewayConnection.run(GatewayConnection.java:238)\n\tat java.lang.Thread.run(Thread.java:745)\n",
      "\nDuring handling of the above exception, another exception occurred:\n",
      "\u001b[0;31mAnalysisException\u001b[0m                         Traceback (most recent call last)",
      "\u001b[0;32m<ipython-input-88-e0804c912361>\u001b[0m in \u001b[0;36m<module>\u001b[0;34m\u001b[0m\n\u001b[0;32m----> 1\u001b[0;31m \u001b[0mq\u001b[0m \u001b[0;34m=\u001b[0m \u001b[0mspark\u001b[0m\u001b[0;34m.\u001b[0m\u001b[0msql\u001b[0m\u001b[0;34m(\u001b[0m\u001b[0;34m'''SELECT drg_definition as drg, max_average_total_payment FROM newdf GROUP BY drg_definition'''\u001b[0m\u001b[0;34m)\u001b[0m\u001b[0;34m\u001b[0m\u001b[0;34m\u001b[0m\u001b[0m\n\u001b[0m\u001b[1;32m      2\u001b[0m \u001b[0mq\u001b[0m\u001b[0;34m.\u001b[0m\u001b[0mshow\u001b[0m\u001b[0;34m(\u001b[0m\u001b[0;36m100\u001b[0m\u001b[0;34m,\u001b[0m \u001b[0;32mFalse\u001b[0m\u001b[0;34m)\u001b[0m\u001b[0;34m\u001b[0m\u001b[0;34m\u001b[0m\u001b[0m\n",
      "\u001b[0;32m~/opt/anaconda3/lib/python3.7/site-packages/pyspark/sql/session.py\u001b[0m in \u001b[0;36msql\u001b[0;34m(self, sqlQuery)\u001b[0m\n\u001b[1;32m    765\u001b[0m         \u001b[0;34m[\u001b[0m\u001b[0mRow\u001b[0m\u001b[0;34m(\u001b[0m\u001b[0mf1\u001b[0m\u001b[0;34m=\u001b[0m\u001b[0;36m1\u001b[0m\u001b[0;34m,\u001b[0m \u001b[0mf2\u001b[0m\u001b[0;34m=\u001b[0m\u001b[0;34mu'row1'\u001b[0m\u001b[0;34m)\u001b[0m\u001b[0;34m,\u001b[0m \u001b[0mRow\u001b[0m\u001b[0;34m(\u001b[0m\u001b[0mf1\u001b[0m\u001b[0;34m=\u001b[0m\u001b[0;36m2\u001b[0m\u001b[0;34m,\u001b[0m \u001b[0mf2\u001b[0m\u001b[0;34m=\u001b[0m\u001b[0;34mu'row2'\u001b[0m\u001b[0;34m)\u001b[0m\u001b[0;34m,\u001b[0m \u001b[0mRow\u001b[0m\u001b[0;34m(\u001b[0m\u001b[0mf1\u001b[0m\u001b[0;34m=\u001b[0m\u001b[0;36m3\u001b[0m\u001b[0;34m,\u001b[0m \u001b[0mf2\u001b[0m\u001b[0;34m=\u001b[0m\u001b[0;34mu'row3'\u001b[0m\u001b[0;34m)\u001b[0m\u001b[0;34m]\u001b[0m\u001b[0;34m\u001b[0m\u001b[0;34m\u001b[0m\u001b[0m\n\u001b[1;32m    766\u001b[0m         \"\"\"\n\u001b[0;32m--> 767\u001b[0;31m         \u001b[0;32mreturn\u001b[0m \u001b[0mDataFrame\u001b[0m\u001b[0;34m(\u001b[0m\u001b[0mself\u001b[0m\u001b[0;34m.\u001b[0m\u001b[0m_jsparkSession\u001b[0m\u001b[0;34m.\u001b[0m\u001b[0msql\u001b[0m\u001b[0;34m(\u001b[0m\u001b[0msqlQuery\u001b[0m\u001b[0;34m)\u001b[0m\u001b[0;34m,\u001b[0m \u001b[0mself\u001b[0m\u001b[0;34m.\u001b[0m\u001b[0m_wrapped\u001b[0m\u001b[0;34m)\u001b[0m\u001b[0;34m\u001b[0m\u001b[0;34m\u001b[0m\u001b[0m\n\u001b[0m\u001b[1;32m    768\u001b[0m \u001b[0;34m\u001b[0m\u001b[0m\n\u001b[1;32m    769\u001b[0m     \u001b[0;34m@\u001b[0m\u001b[0msince\u001b[0m\u001b[0;34m(\u001b[0m\u001b[0;36m2.0\u001b[0m\u001b[0;34m)\u001b[0m\u001b[0;34m\u001b[0m\u001b[0;34m\u001b[0m\u001b[0m\n",
      "\u001b[0;32m~/opt/anaconda3/lib/python3.7/site-packages/py4j/java_gateway.py\u001b[0m in \u001b[0;36m__call__\u001b[0;34m(self, *args)\u001b[0m\n\u001b[1;32m   1255\u001b[0m         \u001b[0manswer\u001b[0m \u001b[0;34m=\u001b[0m \u001b[0mself\u001b[0m\u001b[0;34m.\u001b[0m\u001b[0mgateway_client\u001b[0m\u001b[0;34m.\u001b[0m\u001b[0msend_command\u001b[0m\u001b[0;34m(\u001b[0m\u001b[0mcommand\u001b[0m\u001b[0;34m)\u001b[0m\u001b[0;34m\u001b[0m\u001b[0;34m\u001b[0m\u001b[0m\n\u001b[1;32m   1256\u001b[0m         return_value = get_return_value(\n\u001b[0;32m-> 1257\u001b[0;31m             answer, self.gateway_client, self.target_id, self.name)\n\u001b[0m\u001b[1;32m   1258\u001b[0m \u001b[0;34m\u001b[0m\u001b[0m\n\u001b[1;32m   1259\u001b[0m         \u001b[0;32mfor\u001b[0m \u001b[0mtemp_arg\u001b[0m \u001b[0;32min\u001b[0m \u001b[0mtemp_args\u001b[0m\u001b[0;34m:\u001b[0m\u001b[0;34m\u001b[0m\u001b[0;34m\u001b[0m\u001b[0m\n",
      "\u001b[0;32m~/opt/anaconda3/lib/python3.7/site-packages/pyspark/sql/utils.py\u001b[0m in \u001b[0;36mdeco\u001b[0;34m(*a, **kw)\u001b[0m\n\u001b[1;32m     67\u001b[0m                                              e.java_exception.getStackTrace()))\n\u001b[1;32m     68\u001b[0m             \u001b[0;32mif\u001b[0m \u001b[0ms\u001b[0m\u001b[0;34m.\u001b[0m\u001b[0mstartswith\u001b[0m\u001b[0;34m(\u001b[0m\u001b[0;34m'org.apache.spark.sql.AnalysisException: '\u001b[0m\u001b[0;34m)\u001b[0m\u001b[0;34m:\u001b[0m\u001b[0;34m\u001b[0m\u001b[0;34m\u001b[0m\u001b[0m\n\u001b[0;32m---> 69\u001b[0;31m                 \u001b[0;32mraise\u001b[0m \u001b[0mAnalysisException\u001b[0m\u001b[0;34m(\u001b[0m\u001b[0ms\u001b[0m\u001b[0;34m.\u001b[0m\u001b[0msplit\u001b[0m\u001b[0;34m(\u001b[0m\u001b[0;34m': '\u001b[0m\u001b[0;34m,\u001b[0m \u001b[0;36m1\u001b[0m\u001b[0;34m)\u001b[0m\u001b[0;34m[\u001b[0m\u001b[0;36m1\u001b[0m\u001b[0;34m]\u001b[0m\u001b[0;34m,\u001b[0m \u001b[0mstackTrace\u001b[0m\u001b[0;34m)\u001b[0m\u001b[0;34m\u001b[0m\u001b[0;34m\u001b[0m\u001b[0m\n\u001b[0m\u001b[1;32m     70\u001b[0m             \u001b[0;32mif\u001b[0m \u001b[0ms\u001b[0m\u001b[0;34m.\u001b[0m\u001b[0mstartswith\u001b[0m\u001b[0;34m(\u001b[0m\u001b[0;34m'org.apache.spark.sql.catalyst.analysis'\u001b[0m\u001b[0;34m)\u001b[0m\u001b[0;34m:\u001b[0m\u001b[0;34m\u001b[0m\u001b[0;34m\u001b[0m\u001b[0m\n\u001b[1;32m     71\u001b[0m                 \u001b[0;32mraise\u001b[0m \u001b[0mAnalysisException\u001b[0m\u001b[0;34m(\u001b[0m\u001b[0ms\u001b[0m\u001b[0;34m.\u001b[0m\u001b[0msplit\u001b[0m\u001b[0;34m(\u001b[0m\u001b[0;34m': '\u001b[0m\u001b[0;34m,\u001b[0m \u001b[0;36m1\u001b[0m\u001b[0;34m)\u001b[0m\u001b[0;34m[\u001b[0m\u001b[0;36m1\u001b[0m\u001b[0;34m]\u001b[0m\u001b[0;34m,\u001b[0m \u001b[0mstackTrace\u001b[0m\u001b[0;34m)\u001b[0m\u001b[0;34m\u001b[0m\u001b[0;34m\u001b[0m\u001b[0m\n",
      "\u001b[0;31mAnalysisException\u001b[0m: \"cannot resolve '`max_average_total_payment`' given input columns: [newdf.std_average_total_payments, newdf.mean_average_total_payments, newdf.max_average_total_payments, newdf.drg_definition, newdf.min_average_total_payments, newdf.var_average_total_payments, newdf.Range]; line 1 pos 30;\\n'Aggregate [drg_definition#826], [drg_definition#826 AS drg#1319, 'max_average_total_payment]\\n+- SubqueryAlias `newdf`\\n   +- Project [drg_definition#826, max_average_total_payments#948, min_average_total_payments#950, mean_average_total_payments#952, std_average_total_payments#962, var_average_total_payments#972, (max_average_total_payments#948 - min_average_total_payments#950) AS Range#1085]\\n      +- Aggregate [drg_definition#826], [drg_definition#826, max(average_total_payments#901) AS max_average_total_payments#948, min(average_total_payments#901) AS min_average_total_payments#950, avg(cast(average_total_payments#901 as bigint)) AS mean_average_total_payments#952, stddev_samp(cast(average_total_payments#901 as double)) AS std_average_total_payments#962, var_samp(cast(average_total_payments#901 as double)) AS var_average_total_payments#972]\\n         +- Project [_id#0, average_covered_charges#887, cast(average_medicare_payments#140 as int) AS average_medicare_payments#915, average_total_payments#901, drg_definition#826, hospital_referral_region_description#5, provider_city#6, provider_id#7, provider_name#8, provider_state#9, provider_street_address#10, provider_zip_code#11, total_discharges#12]\\n            +- Project [_id#0, average_covered_charges#887, average_medicare_payments#140, cast(average_total_payments#126 as int) AS average_total_payments#901, drg_definition#826, hospital_referral_region_description#5, provider_city#6, provider_id#7, provider_name#8, provider_state#9, provider_street_address#10, provider_zip_code#11, total_discharges#12]\\n               +- Project [_id#0, cast(average_covered_charges#112 as int) AS average_covered_charges#887, average_medicare_payments#140, average_total_payments#126, drg_definition#826, hospital_referral_region_description#5, provider_city#6, provider_id#7, provider_name#8, provider_state#9, provider_street_address#10, provider_zip_code#11, total_discharges#12]\\n                  +- Project [_id#0, average_covered_charges#112, average_medicare_payments#140, average_total_payments#126, trim(drg_definition#758, None) AS drg_definition#826, hospital_referral_region_description#5, provider_city#6, provider_id#7, provider_name#8, provider_state#9, provider_street_address#10, provider_zip_code#11, total_discharges#12]\\n                     +- Filter AtLeastNNulls(n, _id#0,average_covered_charges#112,average_medicare_payments#140,average_total_payments#126,drg_definition#758,hospital_referral_region_description#5,provider_city#6,provider_id#7,provider_name#8,provider_state#9,provider_street_address#10,provider_zip_code#11,total_discharges#12)\\n                        +- Project [_id#0, average_covered_charges#112, average_medicare_payments#140, average_total_payments#126, trim(drg_definition#75, None) AS drg_definition#758, hospital_referral_region_description#5, provider_city#6, provider_id#7, provider_name#8, provider_state#9, provider_street_address#10, provider_zip_code#11, total_discharges#12]\\n                           +- Project [_id#0, average_covered_charges#112, cast(average_medicare_payments#2 as int) AS average_medicare_payments#140, average_total_payments#126, drg_definition#75, hospital_referral_region_description#5, provider_city#6, provider_id#7, provider_name#8, provider_state#9, provider_street_address#10, provider_zip_code#11, total_discharges#12]\\n                              +- Project [_id#0, average_covered_charges#112, average_medicare_payments#2, cast(average_total_payments#3 as int) AS average_total_payments#126, drg_definition#75, hospital_referral_region_description#5, provider_city#6, provider_id#7, provider_name#8, provider_state#9, provider_street_address#10, provider_zip_code#11, total_discharges#12]\\n                                 +- Project [_id#0, cast(average_covered_charges#1 as int) AS average_covered_charges#112, average_medicare_payments#2, average_total_payments#3, drg_definition#75, hospital_referral_region_description#5, provider_city#6, provider_id#7, provider_name#8, provider_state#9, provider_street_address#10, provider_zip_code#11, total_discharges#12]\\n                                    +- Project [_id#0, average_covered_charges#1, average_medicare_payments#2, average_total_payments#3, trim(drg_definition#4, None) AS drg_definition#75, hospital_referral_region_description#5, provider_city#6, provider_id#7, provider_name#8, provider_state#9, provider_street_address#10, provider_zip_code#11, total_discharges#12]\\n                                       +- Filter AtLeastNNulls(n, _id#0,average_covered_charges#1,average_medicare_payments#2,average_total_payments#3,drg_definition#4,hospital_referral_region_description#5,provider_city#6,provider_id#7,provider_name#8,provider_state#9,provider_street_address#10,provider_zip_code#11,total_discharges#12)\\n                                          +- Relation[_id#0,average_covered_charges#1,average_medicare_payments#2,average_total_payments#3,drg_definition#4,hospital_referral_region_description#5,provider_city#6,provider_id#7,provider_name#8,provider_state#9,provider_street_address#10,provider_zip_code#11,total_discharges#12] MongoRelation(MongoRDD[0] at RDD at MongoRDD.scala:51,Some(StructType(StructField(_id,StructType(StructField(oid,StringType,true)),true), StructField(average_covered_charges,StringType,true), StructField(average_medicare_payments,StringType,true), StructField(average_total_payments,StringType,true), StructField(drg_definition,StringType,true), StructField(hospital_referral_region_description,StringType,true), StructField(provider_city,StringType,true), StructField(provider_id,StringType,true), StructField(provider_name,StringType,true), StructField(provider_state,StringType,true), StructField(provider_street_address,StringType,true), StructField(provider_zip_code,StringType,true), StructField(total_discharges,StringType,true))))\\n\""
     ]
    }
   ],
   "source": [
    "\n",
    "q = spark.sql('''SELECT drg_definition as drg, max_average_total_payment FROM newdf GROUP BY drg_definition''')\n",
    "q.show(100, False)"
   ]
  },
  {
   "cell_type": "code",
   "execution_count": 77,
   "metadata": {},
   "outputs": [
    {
     "name": "stdout",
     "output_type": "stream",
     "text": [
      "+--------------------+--------------------------+--------------------------+---------------------------+--------------------------+--------------------------+------+\n",
      "|      drg_definition|max_average_total_payments|min_average_total_payments|mean_average_total_payments|std_average_total_payments|var_average_total_payments| Range|\n",
      "+--------------------+--------------------------+--------------------------+---------------------------+--------------------------+--------------------------+------+\n",
      "|811 - RED BLOOD C...|                     65772|                      6111|         10264.377973568282|         5572.860274350443|        3.10567716374333E7| 59661|\n",
      "|329 - MAJOR SMALL...|                    381799|                     20298|         41660.656949152544|         23923.17371787648|        5.72318240735696E8|361501|\n",
      "|191 - CHRONIC OBS...|                     66841|                      4532|         7228.5399337504605|         3939.685255258306|      1.5521119910499701E7| 62309|\n",
      "|683 - RENAL FAILU...|                     67345|                      4724|          7624.863473053892|          4181.93761046701|      1.7488602177838523E7| 62621|\n",
      "|918 - POISONING &...|                     40828|                      3040|           5003.83055756698|        3153.9359923327897|         9947312.243732218| 37788|\n",
      "|481 - HIP & FEMUR...|                    118015|                      8606|         14034.767831498324|         8047.504229031677|       6.476232431628272E7|109409|\n",
      "|\"282 - ACUTE MYOC...|                    107981|                      4447|          23458.67457305503|         12781.78798481176|       1.633741040886783E8|103534|\n",
      "|249 - PERC CARDIO...|                    125908|                      8515|         14854.894240837697|        11500.992050744011|      1.3227281815127695E8|117393|\n",
      "|390 - G.I. OBSTRU...|                     37003|                      3091|          4950.972860125261|        2793.3542643066767|         7802828.045920294| 33912|\n",
      "|300 - PERIPHERAL ...|                     65450|                      4159|          7400.578843626807|         4134.709461465098|         1.7095822330729E7| 61291|\n",
      "|057 - DEGENERATIV...|                     52209|                      4194|          7363.629166666667|         4248.703272320804|      1.8051479496229507E7| 48015|\n",
      "|190 - CHRONIC OBS...|                     78216|                      5324|           8881.10516605166|         4763.869032918608|      2.2694448162800875E7| 72892|\n",
      "|243 - PERMANENT C...|                    155632|                     12286|          20469.68695652174|        12853.230568949448|      1.6520553605857655E8|143346|\n",
      "|252 - OTHER VASCU...|                    193954|                     14352|         25185.980869565217|        13526.824745740723|       1.829749877019836E8|179602|\n",
      "|314 - OTHER CIRCU...|                    118202|                      8402|           14746.3799098519|         9169.916566622778|       8.408736983882289E7|109800|\n",
      "|207 - RESPIRATORY...|                    414555|                     22311|          43614.84595524957|        28719.288756002785|       8.247975466506679E8|392244|\n",
      "|247 - PERC CARDIO...|                    127751|                      9585|         16439.710732054016|         11657.94256157743|      1.3590762476903856E8|118166|\n",
      "|690 - KIDNEY & UR...|                     47358|                      3652|          5814.184192900201|         3021.146888657609|         9127328.522845551| 43706|\n",
      "|292 - HEART FAILU...|                     62985|                      4563|          7544.029830508474|        3956.7620241333602|      1.5655965715623925E7| 58422|\n",
      "|482 - HIP & FEMUR...|                     79457|                      7548|         11584.860442733398|         6326.581105795777|      4.0025628488212116E7| 71909|\n",
      "+--------------------+--------------------------+--------------------------+---------------------------+--------------------------+--------------------------+------+\n",
      "only showing top 20 rows\n",
      "\n"
     ]
    }
   ],
   "source": [
    "newdf.show()"
   ]
  },
  {
   "cell_type": "code",
   "execution_count": null,
   "metadata": {},
   "outputs": [],
   "source": []
  }
 ],
 "metadata": {
  "kernelspec": {
   "display_name": "Python 3",
   "language": "python",
   "name": "python3"
  },
  "language_info": {
   "codemirror_mode": {
    "name": "ipython",
    "version": 3
   },
   "file_extension": ".py",
   "mimetype": "text/x-python",
   "name": "python",
   "nbconvert_exporter": "python",
   "pygments_lexer": "ipython3",
   "version": "3.7.4"
  }
 },
 "nbformat": 4,
 "nbformat_minor": 4
}
