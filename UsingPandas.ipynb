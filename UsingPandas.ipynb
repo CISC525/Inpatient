{
 "cells": [
  {
   "cell_type": "code",
   "execution_count": 1,
   "metadata": {},
   "outputs": [],
   "source": [
    "import pandas\n",
    "table = pandas.read_csv(\"inpatientCharges.csv\")"
   ]
  },
  {
   "cell_type": "code",
   "execution_count": 2,
   "metadata": {},
   "outputs": [],
   "source": [
    "def clean_inpatient_data(df):\n",
    "    # Preparing a dict with old columns as keys, with new columns as values\n",
    "    old_cols = df.columns.values\n",
    "    new_cols = {}\n",
    "    for i in range(len(old_cols)):\n",
    "        new_cols[old_cols[i]] = old_cols[i].strip().replace(' ', '_').lower()\n",
    "    # Renaming all columns names via pandas rename() function\n",
    "    df = df.rename(columns=new_cols)\n",
    "    \n",
    "    # Parsing financial values as floats\n",
    "    df['average_covered_charges'] = df['average_covered_charges'].str[1:].astype(float)\n",
    "    df['average_total_payments'] = df['average_total_payments'].str[1:].astype(float)\n",
    "    df['average_medicare_payments'] = df['average_medicare_payments'].str[1:].astype(float)\n",
    "\n",
    "    return df\n",
    "\n",
    "# Cleaned dataframe\n",
    "cleaned_impatient_df = clean_inpatient_data(table)"
   ]
  },
  {
   "cell_type": "code",
   "execution_count": 3,
   "metadata": {},
   "outputs": [
    {
     "data": {
      "text/plain": [
       "array(['DRG Definition', 'Provider Id', 'Provider Name',\n",
       "       'Provider Street Address', 'Provider City', 'Provider State',\n",
       "       'Provider Zip Code', 'Hospital Referral Region Description',\n",
       "       ' Total Discharges ', ' Average Covered Charges ',\n",
       "       ' Average Total Payments ', 'Average Medicare Payments'],\n",
       "      dtype=object)"
      ]
     },
     "execution_count": 3,
     "metadata": {},
     "output_type": "execute_result"
    }
   ],
   "source": [
    "table.columns.values"
   ]
  },
  {
   "cell_type": "code",
   "execution_count": 4,
   "metadata": {},
   "outputs": [],
   "source": [
    "#create new file with cleaned data\n",
    "cleaned_impatient_df.to_csv('inpatient_charges_cleaned.csv', index=False)"
   ]
  },
  {
   "cell_type": "code",
   "execution_count": 5,
   "metadata": {},
   "outputs": [],
   "source": [
    "new_table = cleaned_impatient_df.loc[cleaned_impatient_df['provider_state'] == 'FL']\n"
   ]
  },
  {
   "cell_type": "code",
   "execution_count": 6,
   "metadata": {},
   "outputs": [],
   "source": [
    "new_table1 = cleaned_impatient_df.loc[(cleaned_impatient_df['drg_definition'] == '039 - EXTRACRANIAL PROCEDURES W/O CC/MCC') & (cleaned_impatient_df['provider_state'] == 'NY')]"
   ]
  },
  {
   "cell_type": "code",
   "execution_count": 7,
   "metadata": {},
   "outputs": [],
   "source": [
    "#Get column names\n",
    "column_names = cleaned_impatient_df.columns\n"
   ]
  },
  {
   "cell_type": "code",
   "execution_count": 8,
   "metadata": {},
   "outputs": [
    {
     "name": "stdout",
     "output_type": "stream",
     "text": [
      "drg_definition is unique: False\n",
      "provider_id is unique: False\n",
      "provider_name is unique: False\n",
      "provider_street_address is unique: False\n",
      "provider_city is unique: False\n",
      "provider_state is unique: False\n",
      "provider_zip_code is unique: False\n",
      "hospital_referral_region_description is unique: False\n",
      "total_discharges is unique: False\n",
      "average_covered_charges is unique: False\n",
      "average_total_payments is unique: False\n",
      "average_medicare_payments is unique: False\n"
     ]
    }
   ],
   "source": [
    "# check if the column is unique\n",
    "for i in column_names:\n",
    "  print('{} is unique: {}'.format(i, cleaned_impatient_df[i].is_unique))"
   ]
  },
  {
   "cell_type": "code",
   "execution_count": 9,
   "metadata": {},
   "outputs": [
    {
     "data": {
      "text/plain": [
       "array([     0,      1,      2, ..., 163062, 163063, 163064])"
      ]
     },
     "execution_count": 9,
     "metadata": {},
     "output_type": "execute_result"
    }
   ],
   "source": [
    "# Check the index values\n",
    "cleaned_impatient_df.index.values"
   ]
  },
  {
   "cell_type": "code",
   "execution_count": 10,
   "metadata": {},
   "outputs": [],
   "source": [
    "# Check if a certain index exists\n",
    "1632 in cleaned_impatient_df.index.values\n",
    "# If index does not exist\n",
    "test = lambda cleaned_impatient_df, x: cleaned_impatient_df.index(x) if x in cleaned_impatient_df else None"
   ]
  },
  {
   "cell_type": "code",
   "execution_count": 11,
   "metadata": {},
   "outputs": [
    {
     "data": {
      "text/html": [
       "<div>\n",
       "<style scoped>\n",
       "    .dataframe tbody tr th:only-of-type {\n",
       "        vertical-align: middle;\n",
       "    }\n",
       "\n",
       "    .dataframe tbody tr th {\n",
       "        vertical-align: top;\n",
       "    }\n",
       "\n",
       "    .dataframe thead th {\n",
       "        text-align: right;\n",
       "    }\n",
       "</style>\n",
       "<table border=\"1\" class=\"dataframe\">\n",
       "  <thead>\n",
       "    <tr style=\"text-align: right;\">\n",
       "      <th></th>\n",
       "      <th>drg_definition</th>\n",
       "      <th>provider_id</th>\n",
       "      <th>provider_name</th>\n",
       "      <th>provider_street_address</th>\n",
       "      <th>provider_city</th>\n",
       "      <th>provider_state</th>\n",
       "      <th>provider_zip_code</th>\n",
       "      <th>hospital_referral_region_description</th>\n",
       "      <th>total_discharges</th>\n",
       "      <th>average_covered_charges</th>\n",
       "      <th>average_total_payments</th>\n",
       "      <th>average_medicare_payments</th>\n",
       "    </tr>\n",
       "  </thead>\n",
       "  <tbody>\n",
       "    <tr>\n",
       "      <td>0</td>\n",
       "      <td>039 - EXTRACRANIAL PROCEDURES W/O CC/MCC</td>\n",
       "      <td>10001</td>\n",
       "      <td>SOUTHEAST ALABAMA MEDICAL CENTER</td>\n",
       "      <td>1108 ROSS CLARK CIRCLE</td>\n",
       "      <td>DOTHAN</td>\n",
       "      <td>AL</td>\n",
       "      <td>36301</td>\n",
       "      <td>AL - Dothan</td>\n",
       "      <td>91</td>\n",
       "      <td>32963.07</td>\n",
       "      <td>5777.24</td>\n",
       "      <td>4763.73</td>\n",
       "    </tr>\n",
       "    <tr>\n",
       "      <td>1</td>\n",
       "      <td>039 - EXTRACRANIAL PROCEDURES W/O CC/MCC</td>\n",
       "      <td>10005</td>\n",
       "      <td>MARSHALL MEDICAL CENTER SOUTH</td>\n",
       "      <td>2505 U S HIGHWAY 431 NORTH</td>\n",
       "      <td>BOAZ</td>\n",
       "      <td>AL</td>\n",
       "      <td>35957</td>\n",
       "      <td>AL - Birmingham</td>\n",
       "      <td>14</td>\n",
       "      <td>15131.85</td>\n",
       "      <td>5787.57</td>\n",
       "      <td>4976.71</td>\n",
       "    </tr>\n",
       "    <tr>\n",
       "      <td>2</td>\n",
       "      <td>039 - EXTRACRANIAL PROCEDURES W/O CC/MCC</td>\n",
       "      <td>10006</td>\n",
       "      <td>ELIZA COFFEE MEMORIAL HOSPITAL</td>\n",
       "      <td>205 MARENGO STREET</td>\n",
       "      <td>FLORENCE</td>\n",
       "      <td>AL</td>\n",
       "      <td>35631</td>\n",
       "      <td>AL - Birmingham</td>\n",
       "      <td>24</td>\n",
       "      <td>37560.37</td>\n",
       "      <td>5434.95</td>\n",
       "      <td>4453.79</td>\n",
       "    </tr>\n",
       "    <tr>\n",
       "      <td>3</td>\n",
       "      <td>039 - EXTRACRANIAL PROCEDURES W/O CC/MCC</td>\n",
       "      <td>10011</td>\n",
       "      <td>ST VINCENT'S EAST</td>\n",
       "      <td>50 MEDICAL PARK EAST DRIVE</td>\n",
       "      <td>BIRMINGHAM</td>\n",
       "      <td>AL</td>\n",
       "      <td>35235</td>\n",
       "      <td>AL - Birmingham</td>\n",
       "      <td>25</td>\n",
       "      <td>13998.28</td>\n",
       "      <td>5417.56</td>\n",
       "      <td>4129.16</td>\n",
       "    </tr>\n",
       "    <tr>\n",
       "      <td>4</td>\n",
       "      <td>039 - EXTRACRANIAL PROCEDURES W/O CC/MCC</td>\n",
       "      <td>10016</td>\n",
       "      <td>SHELBY BAPTIST MEDICAL CENTER</td>\n",
       "      <td>1000 FIRST STREET NORTH</td>\n",
       "      <td>ALABASTER</td>\n",
       "      <td>AL</td>\n",
       "      <td>35007</td>\n",
       "      <td>AL - Birmingham</td>\n",
       "      <td>18</td>\n",
       "      <td>31633.27</td>\n",
       "      <td>5658.33</td>\n",
       "      <td>4851.44</td>\n",
       "    </tr>\n",
       "    <tr>\n",
       "      <td>...</td>\n",
       "      <td>...</td>\n",
       "      <td>...</td>\n",
       "      <td>...</td>\n",
       "      <td>...</td>\n",
       "      <td>...</td>\n",
       "      <td>...</td>\n",
       "      <td>...</td>\n",
       "      <td>...</td>\n",
       "      <td>...</td>\n",
       "      <td>...</td>\n",
       "      <td>...</td>\n",
       "      <td>...</td>\n",
       "    </tr>\n",
       "    <tr>\n",
       "      <td>163060</td>\n",
       "      <td>948 - SIGNS &amp; SYMPTOMS W/O MCC</td>\n",
       "      <td>670041</td>\n",
       "      <td>SETON MEDICAL CENTER WILLIAMSON</td>\n",
       "      <td>201 SETON PARKWAY</td>\n",
       "      <td>ROUND ROCK</td>\n",
       "      <td>TX</td>\n",
       "      <td>78664</td>\n",
       "      <td>TX - Austin</td>\n",
       "      <td>23</td>\n",
       "      <td>26314.39</td>\n",
       "      <td>3806.86</td>\n",
       "      <td>3071.39</td>\n",
       "    </tr>\n",
       "    <tr>\n",
       "      <td>163061</td>\n",
       "      <td>948 - SIGNS &amp; SYMPTOMS W/O MCC</td>\n",
       "      <td>670055</td>\n",
       "      <td>METHODIST STONE OAK HOSPITAL</td>\n",
       "      <td>1139 E SONTERRA BLVD</td>\n",
       "      <td>SAN ANTONIO</td>\n",
       "      <td>TX</td>\n",
       "      <td>78258</td>\n",
       "      <td>TX - San Antonio</td>\n",
       "      <td>11</td>\n",
       "      <td>21704.72</td>\n",
       "      <td>4027.36</td>\n",
       "      <td>2649.72</td>\n",
       "    </tr>\n",
       "    <tr>\n",
       "      <td>163062</td>\n",
       "      <td>948 - SIGNS &amp; SYMPTOMS W/O MCC</td>\n",
       "      <td>670056</td>\n",
       "      <td>SETON MEDICAL CENTER HAYS</td>\n",
       "      <td>6001 KYLE PKWY</td>\n",
       "      <td>KYLE</td>\n",
       "      <td>TX</td>\n",
       "      <td>78640</td>\n",
       "      <td>TX - Austin</td>\n",
       "      <td>19</td>\n",
       "      <td>39121.73</td>\n",
       "      <td>5704.36</td>\n",
       "      <td>4058.36</td>\n",
       "    </tr>\n",
       "    <tr>\n",
       "      <td>163063</td>\n",
       "      <td>948 - SIGNS &amp; SYMPTOMS W/O MCC</td>\n",
       "      <td>670060</td>\n",
       "      <td>TEXAS REGIONAL MEDICAL CENTER AT SUNNYVALE</td>\n",
       "      <td>231 SOUTH COLLINS ROAD</td>\n",
       "      <td>SUNNYVALE</td>\n",
       "      <td>TX</td>\n",
       "      <td>75182</td>\n",
       "      <td>TX - Dallas</td>\n",
       "      <td>11</td>\n",
       "      <td>28873.09</td>\n",
       "      <td>7663.09</td>\n",
       "      <td>6848.54</td>\n",
       "    </tr>\n",
       "    <tr>\n",
       "      <td>163064</td>\n",
       "      <td>948 - SIGNS &amp; SYMPTOMS W/O MCC</td>\n",
       "      <td>670068</td>\n",
       "      <td>TEXAS HEALTH PRESBYTERIAN HOSPITAL FLOWER MOUND</td>\n",
       "      <td>4400 LONG PRAIRIE ROAD</td>\n",
       "      <td>FLOWER MOUND</td>\n",
       "      <td>TX</td>\n",
       "      <td>75028</td>\n",
       "      <td>TX - Dallas</td>\n",
       "      <td>12</td>\n",
       "      <td>15042.00</td>\n",
       "      <td>3539.75</td>\n",
       "      <td>2887.41</td>\n",
       "    </tr>\n",
       "  </tbody>\n",
       "</table>\n",
       "<p>163065 rows × 12 columns</p>\n",
       "</div>"
      ],
      "text/plain": [
       "                                  drg_definition  provider_id  \\\n",
       "0       039 - EXTRACRANIAL PROCEDURES W/O CC/MCC        10001   \n",
       "1       039 - EXTRACRANIAL PROCEDURES W/O CC/MCC        10005   \n",
       "2       039 - EXTRACRANIAL PROCEDURES W/O CC/MCC        10006   \n",
       "3       039 - EXTRACRANIAL PROCEDURES W/O CC/MCC        10011   \n",
       "4       039 - EXTRACRANIAL PROCEDURES W/O CC/MCC        10016   \n",
       "...                                          ...          ...   \n",
       "163060            948 - SIGNS & SYMPTOMS W/O MCC       670041   \n",
       "163061            948 - SIGNS & SYMPTOMS W/O MCC       670055   \n",
       "163062            948 - SIGNS & SYMPTOMS W/O MCC       670056   \n",
       "163063            948 - SIGNS & SYMPTOMS W/O MCC       670060   \n",
       "163064            948 - SIGNS & SYMPTOMS W/O MCC       670068   \n",
       "\n",
       "                                          provider_name  \\\n",
       "0                      SOUTHEAST ALABAMA MEDICAL CENTER   \n",
       "1                         MARSHALL MEDICAL CENTER SOUTH   \n",
       "2                        ELIZA COFFEE MEMORIAL HOSPITAL   \n",
       "3                                     ST VINCENT'S EAST   \n",
       "4                         SHELBY BAPTIST MEDICAL CENTER   \n",
       "...                                                 ...   \n",
       "163060                  SETON MEDICAL CENTER WILLIAMSON   \n",
       "163061                     METHODIST STONE OAK HOSPITAL   \n",
       "163062                        SETON MEDICAL CENTER HAYS   \n",
       "163063       TEXAS REGIONAL MEDICAL CENTER AT SUNNYVALE   \n",
       "163064  TEXAS HEALTH PRESBYTERIAN HOSPITAL FLOWER MOUND   \n",
       "\n",
       "           provider_street_address provider_city provider_state  \\\n",
       "0           1108 ROSS CLARK CIRCLE        DOTHAN             AL   \n",
       "1       2505 U S HIGHWAY 431 NORTH          BOAZ             AL   \n",
       "2               205 MARENGO STREET      FLORENCE             AL   \n",
       "3       50 MEDICAL PARK EAST DRIVE    BIRMINGHAM             AL   \n",
       "4          1000 FIRST STREET NORTH     ALABASTER             AL   \n",
       "...                            ...           ...            ...   \n",
       "163060           201 SETON PARKWAY    ROUND ROCK             TX   \n",
       "163061        1139 E SONTERRA BLVD   SAN ANTONIO             TX   \n",
       "163062              6001 KYLE PKWY          KYLE             TX   \n",
       "163063      231 SOUTH COLLINS ROAD     SUNNYVALE             TX   \n",
       "163064      4400 LONG PRAIRIE ROAD  FLOWER MOUND             TX   \n",
       "\n",
       "        provider_zip_code hospital_referral_region_description  \\\n",
       "0                   36301                          AL - Dothan   \n",
       "1                   35957                      AL - Birmingham   \n",
       "2                   35631                      AL - Birmingham   \n",
       "3                   35235                      AL - Birmingham   \n",
       "4                   35007                      AL - Birmingham   \n",
       "...                   ...                                  ...   \n",
       "163060              78664                          TX - Austin   \n",
       "163061              78258                     TX - San Antonio   \n",
       "163062              78640                          TX - Austin   \n",
       "163063              75182                          TX - Dallas   \n",
       "163064              75028                          TX - Dallas   \n",
       "\n",
       "        total_discharges  average_covered_charges  average_total_payments  \\\n",
       "0                     91                 32963.07                 5777.24   \n",
       "1                     14                 15131.85                 5787.57   \n",
       "2                     24                 37560.37                 5434.95   \n",
       "3                     25                 13998.28                 5417.56   \n",
       "4                     18                 31633.27                 5658.33   \n",
       "...                  ...                      ...                     ...   \n",
       "163060                23                 26314.39                 3806.86   \n",
       "163061                11                 21704.72                 4027.36   \n",
       "163062                19                 39121.73                 5704.36   \n",
       "163063                11                 28873.09                 7663.09   \n",
       "163064                12                 15042.00                 3539.75   \n",
       "\n",
       "        average_medicare_payments  \n",
       "0                         4763.73  \n",
       "1                         4976.71  \n",
       "2                         4453.79  \n",
       "3                         4129.16  \n",
       "4                         4851.44  \n",
       "...                           ...  \n",
       "163060                    3071.39  \n",
       "163061                    2649.72  \n",
       "163062                    4058.36  \n",
       "163063                    6848.54  \n",
       "163064                    2887.41  \n",
       "\n",
       "[163065 rows x 12 columns]"
      ]
     },
     "execution_count": 11,
     "metadata": {},
     "output_type": "execute_result"
    }
   ],
   "source": [
    "# Drop any rows which have any nans\n",
    "cleaned_impatient_df.dropna()"
   ]
  },
  {
   "cell_type": "code",
   "execution_count": 12,
   "metadata": {},
   "outputs": [
    {
     "data": {
      "text/html": [
       "<div>\n",
       "<style scoped>\n",
       "    .dataframe tbody tr th:only-of-type {\n",
       "        vertical-align: middle;\n",
       "    }\n",
       "\n",
       "    .dataframe tbody tr th {\n",
       "        vertical-align: top;\n",
       "    }\n",
       "\n",
       "    .dataframe thead th {\n",
       "        text-align: right;\n",
       "    }\n",
       "</style>\n",
       "<table border=\"1\" class=\"dataframe\">\n",
       "  <thead>\n",
       "    <tr style=\"text-align: right;\">\n",
       "      <th></th>\n",
       "      <th>drg_definition</th>\n",
       "      <th>provider_id</th>\n",
       "      <th>provider_name</th>\n",
       "      <th>provider_street_address</th>\n",
       "      <th>provider_city</th>\n",
       "      <th>provider_state</th>\n",
       "      <th>provider_zip_code</th>\n",
       "      <th>hospital_referral_region_description</th>\n",
       "      <th>total_discharges</th>\n",
       "      <th>average_covered_charges</th>\n",
       "      <th>average_total_payments</th>\n",
       "      <th>average_medicare_payments</th>\n",
       "    </tr>\n",
       "  </thead>\n",
       "  <tbody>\n",
       "    <tr>\n",
       "      <td>0</td>\n",
       "      <td>039 - EXTRACRANIAL PROCEDURES W/O CC/MCC</td>\n",
       "      <td>10001</td>\n",
       "      <td>SOUTHEAST ALABAMA MEDICAL CENTER</td>\n",
       "      <td>1108 ROSS CLARK CIRCLE</td>\n",
       "      <td>DOTHAN</td>\n",
       "      <td>AL</td>\n",
       "      <td>36301</td>\n",
       "      <td>AL - Dothan</td>\n",
       "      <td>91</td>\n",
       "      <td>32963.07</td>\n",
       "      <td>5777.24</td>\n",
       "      <td>4763.73</td>\n",
       "    </tr>\n",
       "    <tr>\n",
       "      <td>1</td>\n",
       "      <td>039 - EXTRACRANIAL PROCEDURES W/O CC/MCC</td>\n",
       "      <td>10005</td>\n",
       "      <td>MARSHALL MEDICAL CENTER SOUTH</td>\n",
       "      <td>2505 U S HIGHWAY 431 NORTH</td>\n",
       "      <td>BOAZ</td>\n",
       "      <td>AL</td>\n",
       "      <td>35957</td>\n",
       "      <td>AL - Birmingham</td>\n",
       "      <td>14</td>\n",
       "      <td>15131.85</td>\n",
       "      <td>5787.57</td>\n",
       "      <td>4976.71</td>\n",
       "    </tr>\n",
       "    <tr>\n",
       "      <td>2</td>\n",
       "      <td>039 - EXTRACRANIAL PROCEDURES W/O CC/MCC</td>\n",
       "      <td>10006</td>\n",
       "      <td>ELIZA COFFEE MEMORIAL HOSPITAL</td>\n",
       "      <td>205 MARENGO STREET</td>\n",
       "      <td>FLORENCE</td>\n",
       "      <td>AL</td>\n",
       "      <td>35631</td>\n",
       "      <td>AL - Birmingham</td>\n",
       "      <td>24</td>\n",
       "      <td>37560.37</td>\n",
       "      <td>5434.95</td>\n",
       "      <td>4453.79</td>\n",
       "    </tr>\n",
       "    <tr>\n",
       "      <td>3</td>\n",
       "      <td>039 - EXTRACRANIAL PROCEDURES W/O CC/MCC</td>\n",
       "      <td>10011</td>\n",
       "      <td>ST VINCENT'S EAST</td>\n",
       "      <td>50 MEDICAL PARK EAST DRIVE</td>\n",
       "      <td>BIRMINGHAM</td>\n",
       "      <td>AL</td>\n",
       "      <td>35235</td>\n",
       "      <td>AL - Birmingham</td>\n",
       "      <td>25</td>\n",
       "      <td>13998.28</td>\n",
       "      <td>5417.56</td>\n",
       "      <td>4129.16</td>\n",
       "    </tr>\n",
       "    <tr>\n",
       "      <td>4</td>\n",
       "      <td>039 - EXTRACRANIAL PROCEDURES W/O CC/MCC</td>\n",
       "      <td>10016</td>\n",
       "      <td>SHELBY BAPTIST MEDICAL CENTER</td>\n",
       "      <td>1000 FIRST STREET NORTH</td>\n",
       "      <td>ALABASTER</td>\n",
       "      <td>AL</td>\n",
       "      <td>35007</td>\n",
       "      <td>AL - Birmingham</td>\n",
       "      <td>18</td>\n",
       "      <td>31633.27</td>\n",
       "      <td>5658.33</td>\n",
       "      <td>4851.44</td>\n",
       "    </tr>\n",
       "    <tr>\n",
       "      <td>...</td>\n",
       "      <td>...</td>\n",
       "      <td>...</td>\n",
       "      <td>...</td>\n",
       "      <td>...</td>\n",
       "      <td>...</td>\n",
       "      <td>...</td>\n",
       "      <td>...</td>\n",
       "      <td>...</td>\n",
       "      <td>...</td>\n",
       "      <td>...</td>\n",
       "      <td>...</td>\n",
       "      <td>...</td>\n",
       "    </tr>\n",
       "    <tr>\n",
       "      <td>163060</td>\n",
       "      <td>948 - SIGNS &amp; SYMPTOMS W/O MCC</td>\n",
       "      <td>670041</td>\n",
       "      <td>SETON MEDICAL CENTER WILLIAMSON</td>\n",
       "      <td>201 SETON PARKWAY</td>\n",
       "      <td>ROUND ROCK</td>\n",
       "      <td>TX</td>\n",
       "      <td>78664</td>\n",
       "      <td>TX - Austin</td>\n",
       "      <td>23</td>\n",
       "      <td>26314.39</td>\n",
       "      <td>3806.86</td>\n",
       "      <td>3071.39</td>\n",
       "    </tr>\n",
       "    <tr>\n",
       "      <td>163061</td>\n",
       "      <td>948 - SIGNS &amp; SYMPTOMS W/O MCC</td>\n",
       "      <td>670055</td>\n",
       "      <td>METHODIST STONE OAK HOSPITAL</td>\n",
       "      <td>1139 E SONTERRA BLVD</td>\n",
       "      <td>SAN ANTONIO</td>\n",
       "      <td>TX</td>\n",
       "      <td>78258</td>\n",
       "      <td>TX - San Antonio</td>\n",
       "      <td>11</td>\n",
       "      <td>21704.72</td>\n",
       "      <td>4027.36</td>\n",
       "      <td>2649.72</td>\n",
       "    </tr>\n",
       "    <tr>\n",
       "      <td>163062</td>\n",
       "      <td>948 - SIGNS &amp; SYMPTOMS W/O MCC</td>\n",
       "      <td>670056</td>\n",
       "      <td>SETON MEDICAL CENTER HAYS</td>\n",
       "      <td>6001 KYLE PKWY</td>\n",
       "      <td>KYLE</td>\n",
       "      <td>TX</td>\n",
       "      <td>78640</td>\n",
       "      <td>TX - Austin</td>\n",
       "      <td>19</td>\n",
       "      <td>39121.73</td>\n",
       "      <td>5704.36</td>\n",
       "      <td>4058.36</td>\n",
       "    </tr>\n",
       "    <tr>\n",
       "      <td>163063</td>\n",
       "      <td>948 - SIGNS &amp; SYMPTOMS W/O MCC</td>\n",
       "      <td>670060</td>\n",
       "      <td>TEXAS REGIONAL MEDICAL CENTER AT SUNNYVALE</td>\n",
       "      <td>231 SOUTH COLLINS ROAD</td>\n",
       "      <td>SUNNYVALE</td>\n",
       "      <td>TX</td>\n",
       "      <td>75182</td>\n",
       "      <td>TX - Dallas</td>\n",
       "      <td>11</td>\n",
       "      <td>28873.09</td>\n",
       "      <td>7663.09</td>\n",
       "      <td>6848.54</td>\n",
       "    </tr>\n",
       "    <tr>\n",
       "      <td>163064</td>\n",
       "      <td>948 - SIGNS &amp; SYMPTOMS W/O MCC</td>\n",
       "      <td>670068</td>\n",
       "      <td>TEXAS HEALTH PRESBYTERIAN HOSPITAL FLOWER MOUND</td>\n",
       "      <td>4400 LONG PRAIRIE ROAD</td>\n",
       "      <td>FLOWER MOUND</td>\n",
       "      <td>TX</td>\n",
       "      <td>75028</td>\n",
       "      <td>TX - Dallas</td>\n",
       "      <td>12</td>\n",
       "      <td>15042.00</td>\n",
       "      <td>3539.75</td>\n",
       "      <td>2887.41</td>\n",
       "    </tr>\n",
       "  </tbody>\n",
       "</table>\n",
       "<p>163065 rows × 12 columns</p>\n",
       "</div>"
      ],
      "text/plain": [
       "                                  drg_definition  provider_id  \\\n",
       "0       039 - EXTRACRANIAL PROCEDURES W/O CC/MCC        10001   \n",
       "1       039 - EXTRACRANIAL PROCEDURES W/O CC/MCC        10005   \n",
       "2       039 - EXTRACRANIAL PROCEDURES W/O CC/MCC        10006   \n",
       "3       039 - EXTRACRANIAL PROCEDURES W/O CC/MCC        10011   \n",
       "4       039 - EXTRACRANIAL PROCEDURES W/O CC/MCC        10016   \n",
       "...                                          ...          ...   \n",
       "163060            948 - SIGNS & SYMPTOMS W/O MCC       670041   \n",
       "163061            948 - SIGNS & SYMPTOMS W/O MCC       670055   \n",
       "163062            948 - SIGNS & SYMPTOMS W/O MCC       670056   \n",
       "163063            948 - SIGNS & SYMPTOMS W/O MCC       670060   \n",
       "163064            948 - SIGNS & SYMPTOMS W/O MCC       670068   \n",
       "\n",
       "                                          provider_name  \\\n",
       "0                      SOUTHEAST ALABAMA MEDICAL CENTER   \n",
       "1                         MARSHALL MEDICAL CENTER SOUTH   \n",
       "2                        ELIZA COFFEE MEMORIAL HOSPITAL   \n",
       "3                                     ST VINCENT'S EAST   \n",
       "4                         SHELBY BAPTIST MEDICAL CENTER   \n",
       "...                                                 ...   \n",
       "163060                  SETON MEDICAL CENTER WILLIAMSON   \n",
       "163061                     METHODIST STONE OAK HOSPITAL   \n",
       "163062                        SETON MEDICAL CENTER HAYS   \n",
       "163063       TEXAS REGIONAL MEDICAL CENTER AT SUNNYVALE   \n",
       "163064  TEXAS HEALTH PRESBYTERIAN HOSPITAL FLOWER MOUND   \n",
       "\n",
       "           provider_street_address provider_city provider_state  \\\n",
       "0           1108 ROSS CLARK CIRCLE        DOTHAN             AL   \n",
       "1       2505 U S HIGHWAY 431 NORTH          BOAZ             AL   \n",
       "2               205 MARENGO STREET      FLORENCE             AL   \n",
       "3       50 MEDICAL PARK EAST DRIVE    BIRMINGHAM             AL   \n",
       "4          1000 FIRST STREET NORTH     ALABASTER             AL   \n",
       "...                            ...           ...            ...   \n",
       "163060           201 SETON PARKWAY    ROUND ROCK             TX   \n",
       "163061        1139 E SONTERRA BLVD   SAN ANTONIO             TX   \n",
       "163062              6001 KYLE PKWY          KYLE             TX   \n",
       "163063      231 SOUTH COLLINS ROAD     SUNNYVALE             TX   \n",
       "163064      4400 LONG PRAIRIE ROAD  FLOWER MOUND             TX   \n",
       "\n",
       "        provider_zip_code hospital_referral_region_description  \\\n",
       "0                   36301                          AL - Dothan   \n",
       "1                   35957                      AL - Birmingham   \n",
       "2                   35631                      AL - Birmingham   \n",
       "3                   35235                      AL - Birmingham   \n",
       "4                   35007                      AL - Birmingham   \n",
       "...                   ...                                  ...   \n",
       "163060              78664                          TX - Austin   \n",
       "163061              78258                     TX - San Antonio   \n",
       "163062              78640                          TX - Austin   \n",
       "163063              75182                          TX - Dallas   \n",
       "163064              75028                          TX - Dallas   \n",
       "\n",
       "        total_discharges  average_covered_charges  average_total_payments  \\\n",
       "0                     91                 32963.07                 5777.24   \n",
       "1                     14                 15131.85                 5787.57   \n",
       "2                     24                 37560.37                 5434.95   \n",
       "3                     25                 13998.28                 5417.56   \n",
       "4                     18                 31633.27                 5658.33   \n",
       "...                  ...                      ...                     ...   \n",
       "163060                23                 26314.39                 3806.86   \n",
       "163061                11                 21704.72                 4027.36   \n",
       "163062                19                 39121.73                 5704.36   \n",
       "163063                11                 28873.09                 7663.09   \n",
       "163064                12                 15042.00                 3539.75   \n",
       "\n",
       "        average_medicare_payments  \n",
       "0                         4763.73  \n",
       "1                         4976.71  \n",
       "2                         4453.79  \n",
       "3                         4129.16  \n",
       "4                         4851.44  \n",
       "...                           ...  \n",
       "163060                    3071.39  \n",
       "163061                    2649.72  \n",
       "163062                    4058.36  \n",
       "163063                    6848.54  \n",
       "163064                    2887.41  \n",
       "\n",
       "[163065 rows x 12 columns]"
      ]
     },
     "execution_count": 12,
     "metadata": {},
     "output_type": "execute_result"
    }
   ],
   "source": [
    "# Only drop columns which have at least 90% non-NaNs\n",
    "cleaned_impatient_df.dropna(thresh=int(cleaned_impatient_df.shape[0] * .9), axis=1)"
   ]
  },
  {
   "cell_type": "code",
   "execution_count": 13,
   "metadata": {},
   "outputs": [],
   "source": [
    "cleaned_impatient_df.drop_duplicates(keep=False,inplace=True)"
   ]
  },
  {
   "cell_type": "code",
   "execution_count": 14,
   "metadata": {},
   "outputs": [
    {
     "data": {
      "text/plain": [
       "<matplotlib.axes._subplots.AxesSubplot at 0x115108e90>"
      ]
     },
     "execution_count": 14,
     "metadata": {},
     "output_type": "execute_result"
    }
   ],
   "source": [
    "table_df = cleaned_impatient_df['average_covered_charges'].hist(bins=50) # Distribution analysis \n",
    "table_df"
   ]
  },
  {
   "cell_type": "code",
   "execution_count": 15,
   "metadata": {},
   "outputs": [
    {
     "data": {
      "text/plain": [
       "<matplotlib.axes._subplots.AxesSubplot at 0x118a7d190>"
      ]
     },
     "execution_count": 15,
     "metadata": {},
     "output_type": "execute_result"
    },
    {
     "data": {
      "image/png": "[encoded data removed]",
      "text/plain": [
       "<Figure size 432x288 with 1 Axes>"
      ]
     },
     "metadata": {
      "needs_background": "light"
     },
     "output_type": "display_data"
    }
   ],
   "source": [
    "table_df = cleaned_impatient_df.boxplot(column='average_covered_charges') #boxplot : This confirms the presence of a lot of outliers/extreme values\n",
    "table_df"
   ]
  },
  {
   "cell_type": "code",
   "execution_count": 16,
   "metadata": {},
   "outputs": [
    {
     "data": {
      "text/plain": [
       "<matplotlib.axes._subplots.AxesSubplot at 0x118a6e710>"
      ]
     },
     "execution_count": 16,
     "metadata": {},
     "output_type": "execute_result"
    },
    {
     "data": {
      "image/png": "[encoded data removed]",
      "text/plain": [
       "<Figure size 432x288 with 1 Axes>"
      ]
     },
     "metadata": {
      "needs_background": "light"
     },
     "output_type": "display_data"
    }
   ],
   "source": [
    "table_df = cleaned_impatient_df['average_total_payments'].hist(bins=50)\n",
    "table_df"
   ]
  },
  {
   "cell_type": "code",
   "execution_count": 17,
   "metadata": {},
   "outputs": [
    {
     "data": {
      "text/plain": [
       "<matplotlib.axes._subplots.AxesSubplot at 0x118c96e90>"
      ]
     },
     "execution_count": 17,
     "metadata": {},
     "output_type": "execute_result"
    },
    {
     "data": {
      "image/png": "[encoded data removed]",
      "text/plain": [
       "<Figure size 432x288 with 1 Axes>"
      ]
     },
     "metadata": {
      "needs_background": "light"
     },
     "output_type": "display_data"
    }
   ],
   "source": [
    "table_df = cleaned_impatient_df.boxplot(column='average_medicare_payments')\n",
    "table_df"
   ]
  },
  {
   "cell_type": "code",
   "execution_count": 18,
   "metadata": {},
   "outputs": [
    {
     "data": {
      "text/plain": [
       "<matplotlib.axes._subplots.AxesSubplot at 0x11997db50>"
      ]
     },
     "execution_count": 18,
     "metadata": {},
     "output_type": "execute_result"
    },
    {
     "data": {
      "image/png": "[encoded data removed]",
      "text/plain": [
       "<Figure size 432x288 with 1 Axes>"
      ]
     },
     "metadata": {
      "needs_background": "light"
     },
     "output_type": "display_data"
    }
   ],
   "source": [
    "table_df = cleaned_impatient_df.boxplot(column='average_total_payments')\n",
    "table_df"
   ]
  },
  {
   "cell_type": "code",
   "execution_count": 19,
   "metadata": {},
   "outputs": [
    {
     "data": {
      "text/plain": [
       "drg_definition                          0\n",
       "provider_id                             0\n",
       "provider_name                           0\n",
       "provider_street_address                 0\n",
       "provider_city                           0\n",
       "provider_state                          0\n",
       "provider_zip_code                       0\n",
       "hospital_referral_region_description    0\n",
       "total_discharges                        0\n",
       "average_covered_charges                 0\n",
       "average_total_payments                  0\n",
       "average_medicare_payments               0\n",
       "dtype: int64"
      ]
     },
     "execution_count": 19,
     "metadata": {},
     "output_type": "execute_result"
    }
   ],
   "source": [
    "# checking the missing values in the dataset \n",
    "cleaned_impatient_df.apply(lambda x: sum(x.isnull()),axis=0) "
   ]
  },
  {
   "cell_type": "code",
   "execution_count": 20,
   "metadata": {},
   "outputs": [],
   "source": [
    "table.columns = [column.strip() for column in table.columns]"
   ]
  },
  {
   "cell_type": "code",
   "execution_count": 25,
   "metadata": {},
   "outputs": [
    {
     "data": {
      "text/plain": [
       "(1977,)"
      ]
     },
     "execution_count": 25,
     "metadata": {},
     "output_type": "execute_result"
    }
   ],
   "source": [
    "cleaned_impatient_df['drg_definition'].unique().shape\n",
    "cleaned_impatient_df['provider_id'].unique().shape\n",
    "cleaned_impatient_df['provider_city'].unique().shape"
   ]
  },
  {
   "cell_type": "code",
   "execution_count": 29,
   "metadata": {},
   "outputs": [],
   "source": [
    "cleaned_impatient_df.columns = [column.strip() for column in cleaned_impatient_df.columns]"
   ]
  },
  {
   "cell_type": "code",
   "execution_count": 31,
   "metadata": {},
   "outputs": [
    {
     "ename": "TypeError",
     "evalue": "'float' object is not subscriptable",
     "output_type": "error",
     "traceback": [
      "\u001b[0;31m---------------------------------------------------------------------------\u001b[0m",
      "\u001b[0;31mTypeError\u001b[0m                                 Traceback (most recent call last)",
      "\u001b[0;32m<ipython-input-31-68a44063006c>\u001b[0m in \u001b[0;36m<module>\u001b[0;34m\u001b[0m\n\u001b[1;32m      1\u001b[0m \u001b[0;32mfor\u001b[0m \u001b[0mcolumn\u001b[0m \u001b[0;32min\u001b[0m \u001b[0;34m[\u001b[0m\u001b[0;34m'average_covered_charges'\u001b[0m\u001b[0;34m,\u001b[0m \u001b[0;34m'average_total_payments'\u001b[0m\u001b[0;34m,\u001b[0m \u001b[0;34m'average_medicare_payments'\u001b[0m\u001b[0;34m]\u001b[0m\u001b[0;34m:\u001b[0m\u001b[0;34m\u001b[0m\u001b[0;34m\u001b[0m\u001b[0m\n\u001b[0;32m----> 2\u001b[0;31m     \u001b[0mcleaned_impatient_df\u001b[0m\u001b[0;34m[\u001b[0m\u001b[0mcolumn\u001b[0m\u001b[0;34m]\u001b[0m \u001b[0;34m=\u001b[0m \u001b[0mcleaned_impatient_df\u001b[0m\u001b[0;34m[\u001b[0m\u001b[0mcolumn\u001b[0m\u001b[0;34m]\u001b[0m\u001b[0;34m.\u001b[0m\u001b[0mmap\u001b[0m\u001b[0;34m(\u001b[0m\u001b[0;32mlambda\u001b[0m \u001b[0mx\u001b[0m\u001b[0;34m:\u001b[0m \u001b[0mx\u001b[0m\u001b[0;34m[\u001b[0m\u001b[0;36m1\u001b[0m\u001b[0;34m:\u001b[0m\u001b[0;34m]\u001b[0m\u001b[0;34m)\u001b[0m\u001b[0;34m\u001b[0m\u001b[0;34m\u001b[0m\u001b[0m\n\u001b[0m\u001b[1;32m      3\u001b[0m     \u001b[0mcleaned_impatient_df\u001b[0m\u001b[0;34m[\u001b[0m\u001b[0mcolumn\u001b[0m\u001b[0;34m]\u001b[0m \u001b[0;34m=\u001b[0m \u001b[0mpandas\u001b[0m\u001b[0;34m.\u001b[0m\u001b[0mto_numeric\u001b[0m\u001b[0;34m(\u001b[0m\u001b[0mcleaned_impatient_df\u001b[0m\u001b[0;34m[\u001b[0m\u001b[0mcolumn\u001b[0m\u001b[0;34m]\u001b[0m\u001b[0;34m)\u001b[0m\u001b[0;34m\u001b[0m\u001b[0;34m\u001b[0m\u001b[0m\n",
      "\u001b[0;32m~/opt/anaconda3/lib/python3.7/site-packages/pandas/core/series.py\u001b[0m in \u001b[0;36mmap\u001b[0;34m(self, arg, na_action)\u001b[0m\n\u001b[1;32m   3823\u001b[0m         \u001b[0mdtype\u001b[0m\u001b[0;34m:\u001b[0m \u001b[0mobject\u001b[0m\u001b[0;34m\u001b[0m\u001b[0;34m\u001b[0m\u001b[0m\n\u001b[1;32m   3824\u001b[0m         \"\"\"\n\u001b[0;32m-> 3825\u001b[0;31m         \u001b[0mnew_values\u001b[0m \u001b[0;34m=\u001b[0m \u001b[0msuper\u001b[0m\u001b[0;34m(\u001b[0m\u001b[0;34m)\u001b[0m\u001b[0;34m.\u001b[0m\u001b[0m_map_values\u001b[0m\u001b[0;34m(\u001b[0m\u001b[0marg\u001b[0m\u001b[0;34m,\u001b[0m \u001b[0mna_action\u001b[0m\u001b[0;34m=\u001b[0m\u001b[0mna_action\u001b[0m\u001b[0;34m)\u001b[0m\u001b[0;34m\u001b[0m\u001b[0;34m\u001b[0m\u001b[0m\n\u001b[0m\u001b[1;32m   3826\u001b[0m         \u001b[0;32mreturn\u001b[0m \u001b[0mself\u001b[0m\u001b[0;34m.\u001b[0m\u001b[0m_constructor\u001b[0m\u001b[0;34m(\u001b[0m\u001b[0mnew_values\u001b[0m\u001b[0;34m,\u001b[0m \u001b[0mindex\u001b[0m\u001b[0;34m=\u001b[0m\u001b[0mself\u001b[0m\u001b[0;34m.\u001b[0m\u001b[0mindex\u001b[0m\u001b[0;34m)\u001b[0m\u001b[0;34m.\u001b[0m\u001b[0m__finalize__\u001b[0m\u001b[0;34m(\u001b[0m\u001b[0mself\u001b[0m\u001b[0;34m)\u001b[0m\u001b[0;34m\u001b[0m\u001b[0;34m\u001b[0m\u001b[0m\n\u001b[1;32m   3827\u001b[0m \u001b[0;34m\u001b[0m\u001b[0m\n",
      "\u001b[0;32m~/opt/anaconda3/lib/python3.7/site-packages/pandas/core/base.py\u001b[0m in \u001b[0;36m_map_values\u001b[0;34m(self, mapper, na_action)\u001b[0m\n\u001b[1;32m   1298\u001b[0m \u001b[0;34m\u001b[0m\u001b[0m\n\u001b[1;32m   1299\u001b[0m         \u001b[0;31m# mapper is a function\u001b[0m\u001b[0;34m\u001b[0m\u001b[0;34m\u001b[0m\u001b[0;34m\u001b[0m\u001b[0m\n\u001b[0;32m-> 1300\u001b[0;31m         \u001b[0mnew_values\u001b[0m \u001b[0;34m=\u001b[0m \u001b[0mmap_f\u001b[0m\u001b[0;34m(\u001b[0m\u001b[0mvalues\u001b[0m\u001b[0;34m,\u001b[0m \u001b[0mmapper\u001b[0m\u001b[0;34m)\u001b[0m\u001b[0;34m\u001b[0m\u001b[0;34m\u001b[0m\u001b[0m\n\u001b[0m\u001b[1;32m   1301\u001b[0m \u001b[0;34m\u001b[0m\u001b[0m\n\u001b[1;32m   1302\u001b[0m         \u001b[0;32mreturn\u001b[0m \u001b[0mnew_values\u001b[0m\u001b[0;34m\u001b[0m\u001b[0;34m\u001b[0m\u001b[0m\n",
      "\u001b[0;32mpandas/_libs/lib.pyx\u001b[0m in \u001b[0;36mpandas._libs.lib.map_infer\u001b[0;34m()\u001b[0m\n",
      "\u001b[0;32m<ipython-input-31-68a44063006c>\u001b[0m in \u001b[0;36m<lambda>\u001b[0;34m(x)\u001b[0m\n\u001b[1;32m      1\u001b[0m \u001b[0;32mfor\u001b[0m \u001b[0mcolumn\u001b[0m \u001b[0;32min\u001b[0m \u001b[0;34m[\u001b[0m\u001b[0;34m'average_covered_charges'\u001b[0m\u001b[0;34m,\u001b[0m \u001b[0;34m'average_total_payments'\u001b[0m\u001b[0;34m,\u001b[0m \u001b[0;34m'average_medicare_payments'\u001b[0m\u001b[0;34m]\u001b[0m\u001b[0;34m:\u001b[0m\u001b[0;34m\u001b[0m\u001b[0;34m\u001b[0m\u001b[0m\n\u001b[0;32m----> 2\u001b[0;31m     \u001b[0mcleaned_impatient_df\u001b[0m\u001b[0;34m[\u001b[0m\u001b[0mcolumn\u001b[0m\u001b[0;34m]\u001b[0m \u001b[0;34m=\u001b[0m \u001b[0mcleaned_impatient_df\u001b[0m\u001b[0;34m[\u001b[0m\u001b[0mcolumn\u001b[0m\u001b[0;34m]\u001b[0m\u001b[0;34m.\u001b[0m\u001b[0mmap\u001b[0m\u001b[0;34m(\u001b[0m\u001b[0;32mlambda\u001b[0m \u001b[0mx\u001b[0m\u001b[0;34m:\u001b[0m \u001b[0mx\u001b[0m\u001b[0;34m[\u001b[0m\u001b[0;36m1\u001b[0m\u001b[0;34m:\u001b[0m\u001b[0;34m]\u001b[0m\u001b[0;34m)\u001b[0m\u001b[0;34m\u001b[0m\u001b[0;34m\u001b[0m\u001b[0m\n\u001b[0m\u001b[1;32m      3\u001b[0m     \u001b[0mcleaned_impatient_df\u001b[0m\u001b[0;34m[\u001b[0m\u001b[0mcolumn\u001b[0m\u001b[0;34m]\u001b[0m \u001b[0;34m=\u001b[0m \u001b[0mpandas\u001b[0m\u001b[0;34m.\u001b[0m\u001b[0mto_numeric\u001b[0m\u001b[0;34m(\u001b[0m\u001b[0mcleaned_impatient_df\u001b[0m\u001b[0;34m[\u001b[0m\u001b[0mcolumn\u001b[0m\u001b[0;34m]\u001b[0m\u001b[0;34m)\u001b[0m\u001b[0;34m\u001b[0m\u001b[0;34m\u001b[0m\u001b[0m\n",
      "\u001b[0;31mTypeError\u001b[0m: 'float' object is not subscriptable"
     ]
    }
   ],
   "source": [
    "for column in ['average_covered_charges', 'average_total_payments', 'average_medicare_payments']:\n",
    "    cleaned_impatient_df[column] = cleaned_impatient_df[column].map(lambda x: x[1:])\n",
    "    cleaned_impatient_df[column] = pandas.to_numeric(cleaned_impatient_df[column])"
   ]
  },
  {
   "cell_type": "code",
   "execution_count": null,
   "metadata": {},
   "outputs": [],
   "source": []
  }
 ],
 "metadata": {
  "kernelspec": {
   "display_name": "Python 3",
   "language": "python",
   "name": "python3"
  },
  "language_info": {
   "codemirror_mode": {
    "name": "ipython",
    "version": 3
   },
   "file_extension": ".py",
   "mimetype": "text/x-python",
   "name": "python",
   "nbconvert_exporter": "python",
   "pygments_lexer": "ipython3",
   "version": "3.7.4"
  }
 },
 "nbformat": 4,
 "nbformat_minor": 4
}
